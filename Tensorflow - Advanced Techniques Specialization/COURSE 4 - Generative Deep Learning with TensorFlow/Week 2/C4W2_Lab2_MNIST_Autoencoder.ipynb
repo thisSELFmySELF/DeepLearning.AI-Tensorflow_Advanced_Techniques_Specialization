{
 "cells": [
  {
   "cell_type": "markdown",
   "metadata": {
    "id": "nBXbFax4YP34"
   },
   "source": [
    "## Ungraded Lab: MNIST Autoencoder\n",
    "\n",
    "You will now work on an autoencoder that works on the [MNIST dataset](https://www.tensorflow.org/datasets/catalog/mnist). This will encode the inputs to lower resolution images. The decoder should then be able to generate the original input from this compressed representation."
   ]
  },
  {
   "cell_type": "markdown",
   "metadata": {
    "id": "9ZYaLxnBYUKA"
   },
   "source": [
    "## Imports"
   ]
  },
  {
   "cell_type": "code",
   "execution_count": 1,
   "metadata": {
    "colab": {
     "base_uri": "https://localhost:8080/"
    },
    "executionInfo": {
     "elapsed": 4151,
     "status": "ok",
     "timestamp": 1689504282188,
     "user": {
      "displayName": "Justin Ho",
      "userId": "00952880816773575798"
     },
     "user_tz": -480
    },
    "id": "3EXwoz-KHtWO",
    "outputId": "bec89cdc-00df-4a77-ff1d-89ae2d7bffe5"
   },
   "outputs": [
    {
     "name": "stdout",
     "output_type": "stream",
     "text": [
      "Colab only includes TensorFlow 2.x; %tensorflow_version has no effect.\n"
     ]
    }
   ],
   "source": [
    "try:\n",
    "  # %tensorflow_version only exists in Colab.\n",
    "  %tensorflow_version 2.x\n",
    "except Exception:\n",
    "  pass\n",
    "\n",
    "import tensorflow as tf\n",
    "import tensorflow_datasets as tfds\n",
    "\n",
    "import numpy as np\n",
    "import matplotlib.pyplot as plt"
   ]
  },
  {
   "cell_type": "markdown",
   "metadata": {
    "id": "Is05FyRgYX0c"
   },
   "source": [
    "## Prepare the Dataset"
   ]
  },
  {
   "cell_type": "markdown",
   "metadata": {
    "id": "Xuhe2ksPI8A0"
   },
   "source": [
    "You will load the MNIST data from TFDS into train and test sets. Let's first define a preprocessing function for normalizing and flattening the images. Since we'll be training an autoencoder, this will return `image, image` because the input will also be the target or label while training.\n"
   ]
  },
  {
   "cell_type": "code",
   "execution_count": 2,
   "metadata": {
    "executionInfo": {
     "elapsed": 3,
     "status": "ok",
     "timestamp": 1689504285382,
     "user": {
      "displayName": "Justin Ho",
      "userId": "00952880816773575798"
     },
     "user_tz": -480
    },
    "id": "t9F7YsCNIKSA"
   },
   "outputs": [],
   "source": [
    "def map_image(image, label):\n",
    "  '''Normalizes and flattens the image. Returns image as input and label.'''\n",
    "  image = tf.cast(image, dtype=tf.float32)\n",
    "  image = image / 255.0\n",
    "  image = tf.reshape(image, shape=(784,))\n",
    "\n",
    "  return image, image"
   ]
  },
  {
   "cell_type": "code",
   "execution_count": 3,
   "metadata": {
    "colab": {
     "base_uri": "https://localhost:8080/",
     "height": 84,
     "referenced_widgets": [
      "2bcdafdbb25e43d998a157bed0f4343e",
      "f8b6397bd3e94456b0c73827de12233d",
      "eef24149b7794c1ba8ceb34fca8ecb43",
      "f70893dbb0e74319850db56581d640f3",
      "c7e845ce69c546b5b204df7200487868",
      "a9388972884d46dcaa5a1b11535f269e",
      "009db43a11ee4122a48745e6c6b21f68",
      "0722a260052849beae0006435537ae4a",
      "4e7980f640a249d1a7532b53de6f97ba",
      "cbf6a48891c04b12ba1cd7119a775ac7",
      "dc1e81d934b04f1c9f738c1dda47ca4f"
     ]
    },
    "executionInfo": {
     "elapsed": 7173,
     "status": "ok",
     "timestamp": 1689504296847,
     "user": {
      "displayName": "Justin Ho",
      "userId": "00952880816773575798"
     },
     "user_tz": -480
    },
    "id": "08I1mbYSLbsC",
    "outputId": "1c410c3a-1a43-4552-ccc1-f4a894def06c"
   },
   "outputs": [
    {
     "name": "stdout",
     "output_type": "stream",
     "text": [
      "Downloading and preparing dataset 11.06 MiB (download: 11.06 MiB, generated: 21.00 MiB, total: 32.06 MiB) to /root/tensorflow_datasets/mnist/3.0.1...\n"
     ]
    },
    {
     "data": {
      "application/vnd.jupyter.widget-view+json": {
       "model_id": "2bcdafdbb25e43d998a157bed0f4343e",
       "version_major": 2,
       "version_minor": 0
      },
      "text/plain": [
       "Dl Completed...:   0%|          | 0/5 [00:00<?, ? file/s]"
      ]
     },
     "metadata": {},
     "output_type": "display_data"
    },
    {
     "name": "stdout",
     "output_type": "stream",
     "text": [
      "Dataset mnist downloaded and prepared to /root/tensorflow_datasets/mnist/3.0.1. Subsequent calls will reuse this data.\n"
     ]
    }
   ],
   "source": [
    "# Load the train and test sets from TFDS\n",
    "\n",
    "BATCH_SIZE = 128\n",
    "SHUFFLE_BUFFER_SIZE = 1024\n",
    "\n",
    "train_dataset = tfds.load('mnist', as_supervised=True, split=\"train\")\n",
    "train_dataset = train_dataset.map(map_image)\n",
    "train_dataset = train_dataset.shuffle(SHUFFLE_BUFFER_SIZE).batch(BATCH_SIZE).repeat()\n",
    "\n",
    "test_dataset = tfds.load('mnist', as_supervised=True, split=\"test\")\n",
    "test_dataset = test_dataset.map(map_image)\n",
    "test_dataset = test_dataset.batch(BATCH_SIZE).repeat()"
   ]
  },
  {
   "cell_type": "markdown",
   "metadata": {
    "id": "Z70w2KXjYk32"
   },
   "source": [
    "## Build the Model"
   ]
  },
  {
   "cell_type": "markdown",
   "metadata": {
    "id": "1MKu48lBM2Qg"
   },
   "source": [
    "You will now build a simple autoencoder to ingest the data. Like before, the encoder will compress the input and reconstructs it in the decoder output."
   ]
  },
  {
   "cell_type": "code",
   "execution_count": 4,
   "metadata": {
    "executionInfo": {
     "elapsed": 414,
     "status": "ok",
     "timestamp": 1689504301582,
     "user": {
      "displayName": "Justin Ho",
      "userId": "00952880816773575798"
     },
     "user_tz": -480
    },
    "id": "KRrE2BV4IpzR"
   },
   "outputs": [],
   "source": [
    "def simple_autoencoder(inputs):\n",
    "  '''Builds the encoder and decoder using Dense layers.'''\n",
    "  encoder = tf.keras.layers.Dense(units=32, activation='relu')(inputs)\n",
    "  decoder = tf.keras.layers.Dense(units=784, activation='sigmoid')(encoder)\n",
    "\n",
    "  return encoder, decoder\n",
    "\n",
    "# set the input shape\n",
    "inputs =  tf.keras.layers.Input(shape=(784,))\n",
    "\n",
    "# get the encoder and decoder output\n",
    "encoder_output, decoder_output = simple_autoencoder(inputs)\n",
    "\n",
    "# setup the encoder because you will visualize its output later\n",
    "encoder_model = tf.keras.Model(inputs=inputs, outputs=encoder_output)\n",
    "\n",
    "# setup the autoencoder\n",
    "autoencoder_model = tf.keras.Model(inputs=inputs, outputs=decoder_output)"
   ]
  },
  {
   "cell_type": "markdown",
   "metadata": {
    "id": "8k9OnSM4YxJd"
   },
   "source": [
    "## Compile the Model"
   ]
  },
  {
   "cell_type": "markdown",
   "metadata": {
    "id": "DvvDqY_XQPyb"
   },
   "source": [
    "You will setup the model for training. You can use binary crossentropy to measure the loss between pixel values that range from 0 (black) to 1 (white)."
   ]
  },
  {
   "cell_type": "code",
   "execution_count": 5,
   "metadata": {
    "executionInfo": {
     "elapsed": 419,
     "status": "ok",
     "timestamp": 1689504314471,
     "user": {
      "displayName": "Justin Ho",
      "userId": "00952880816773575798"
     },
     "user_tz": -480
    },
    "id": "cFwmAhWAYwcc"
   },
   "outputs": [],
   "source": [
    "autoencoder_model.compile(\n",
    "    optimizer=tf.keras.optimizers.Adam(),\n",
    "    loss='binary_crossentropy')"
   ]
  },
  {
   "cell_type": "markdown",
   "metadata": {
    "id": "zzLf0oQ1Y0cI"
   },
   "source": [
    "## Train the Model"
   ]
  },
  {
   "cell_type": "code",
   "execution_count": 6,
   "metadata": {
    "colab": {
     "base_uri": "https://localhost:8080/"
    },
    "executionInfo": {
     "elapsed": 186435,
     "status": "ok",
     "timestamp": 1689504503104,
     "user": {
      "displayName": "Justin Ho",
      "userId": "00952880816773575798"
     },
     "user_tz": -480
    },
    "id": "vsaSjlAgYz-7",
    "outputId": "d5a4c8c5-c9d1-4523-b432-541597eb4748"
   },
   "outputs": [
    {
     "name": "stdout",
     "output_type": "stream",
     "text": [
      "Epoch 1/50\n",
      "468/468 [==============================] - 12s 13ms/step - loss: 0.2238\n",
      "Epoch 2/50\n",
      "468/468 [==============================] - 3s 7ms/step - loss: 0.1417\n",
      "Epoch 3/50\n",
      "468/468 [==============================] - 4s 9ms/step - loss: 0.1191\n",
      "Epoch 4/50\n",
      "468/468 [==============================] - 3s 7ms/step - loss: 0.1079\n",
      "Epoch 5/50\n",
      "468/468 [==============================] - 3s 7ms/step - loss: 0.1014\n",
      "Epoch 6/50\n",
      "468/468 [==============================] - 3s 6ms/step - loss: 0.0976\n",
      "Epoch 7/50\n",
      "468/468 [==============================] - 4s 9ms/step - loss: 0.0958\n",
      "Epoch 8/50\n",
      "468/468 [==============================] - 3s 7ms/step - loss: 0.0949\n",
      "Epoch 9/50\n",
      "468/468 [==============================] - 3s 7ms/step - loss: 0.0944\n",
      "Epoch 10/50\n",
      "468/468 [==============================] - 3s 7ms/step - loss: 0.0941\n",
      "Epoch 11/50\n",
      "468/468 [==============================] - 4s 9ms/step - loss: 0.0939\n",
      "Epoch 12/50\n",
      "468/468 [==============================] - 3s 7ms/step - loss: 0.0937\n",
      "Epoch 13/50\n",
      "468/468 [==============================] - 3s 7ms/step - loss: 0.0936\n",
      "Epoch 14/50\n",
      "468/468 [==============================] - 4s 9ms/step - loss: 0.0935\n",
      "Epoch 15/50\n",
      "468/468 [==============================] - 3s 7ms/step - loss: 0.0934\n",
      "Epoch 16/50\n",
      "468/468 [==============================] - 4s 9ms/step - loss: 0.0933\n",
      "Epoch 17/50\n",
      "468/468 [==============================] - 4s 10ms/step - loss: 0.0933\n",
      "Epoch 18/50\n",
      "468/468 [==============================] - 3s 7ms/step - loss: 0.0932\n",
      "Epoch 19/50\n",
      "468/468 [==============================] - 3s 7ms/step - loss: 0.0932\n",
      "Epoch 20/50\n",
      "468/468 [==============================] - 4s 8ms/step - loss: 0.0932\n",
      "Epoch 21/50\n",
      "468/468 [==============================] - 4s 9ms/step - loss: 0.0931\n",
      "Epoch 22/50\n",
      "468/468 [==============================] - 3s 7ms/step - loss: 0.0931\n",
      "Epoch 23/50\n",
      "468/468 [==============================] - 3s 7ms/step - loss: 0.0930\n",
      "Epoch 24/50\n",
      "468/468 [==============================] - 4s 8ms/step - loss: 0.0930\n",
      "Epoch 25/50\n",
      "468/468 [==============================] - 4s 8ms/step - loss: 0.0930\n",
      "Epoch 26/50\n",
      "468/468 [==============================] - 3s 7ms/step - loss: 0.0930\n",
      "Epoch 27/50\n",
      "468/468 [==============================] - 3s 7ms/step - loss: 0.0929\n",
      "Epoch 28/50\n",
      "468/468 [==============================] - 4s 9ms/step - loss: 0.0929\n",
      "Epoch 29/50\n",
      "468/468 [==============================] - 3s 7ms/step - loss: 0.0929\n",
      "Epoch 30/50\n",
      "468/468 [==============================] - 3s 7ms/step - loss: 0.0929\n",
      "Epoch 31/50\n",
      "468/468 [==============================] - 3s 7ms/step - loss: 0.0929\n",
      "Epoch 32/50\n",
      "468/468 [==============================] - 4s 9ms/step - loss: 0.0928\n",
      "Epoch 33/50\n",
      "468/468 [==============================] - 3s 7ms/step - loss: 0.0928\n",
      "Epoch 34/50\n",
      "468/468 [==============================] - 4s 8ms/step - loss: 0.0928\n",
      "Epoch 35/50\n",
      "468/468 [==============================] - 4s 9ms/step - loss: 0.0928\n",
      "Epoch 36/50\n",
      "468/468 [==============================] - 3s 7ms/step - loss: 0.0928\n",
      "Epoch 37/50\n",
      "468/468 [==============================] - 3s 7ms/step - loss: 0.0928\n",
      "Epoch 38/50\n",
      "468/468 [==============================] - 3s 7ms/step - loss: 0.0928\n",
      "Epoch 39/50\n",
      "468/468 [==============================] - 4s 9ms/step - loss: 0.0928\n",
      "Epoch 40/50\n",
      "468/468 [==============================] - 3s 7ms/step - loss: 0.0928\n",
      "Epoch 41/50\n",
      "468/468 [==============================] - 3s 7ms/step - loss: 0.0927\n",
      "Epoch 42/50\n",
      "468/468 [==============================] - 4s 8ms/step - loss: 0.0927\n",
      "Epoch 43/50\n",
      "468/468 [==============================] - 4s 8ms/step - loss: 0.0927\n",
      "Epoch 44/50\n",
      "468/468 [==============================] - 3s 6ms/step - loss: 0.0927\n",
      "Epoch 45/50\n",
      "468/468 [==============================] - 3s 7ms/step - loss: 0.0927\n",
      "Epoch 46/50\n",
      "468/468 [==============================] - 4s 9ms/step - loss: 0.0926\n",
      "Epoch 47/50\n",
      "468/468 [==============================] - 3s 7ms/step - loss: 0.0927\n",
      "Epoch 48/50\n",
      "468/468 [==============================] - 3s 6ms/step - loss: 0.0927\n",
      "Epoch 49/50\n",
      "468/468 [==============================] - 3s 7ms/step - loss: 0.0926\n",
      "Epoch 50/50\n",
      "468/468 [==============================] - 4s 9ms/step - loss: 0.0927\n"
     ]
    }
   ],
   "source": [
    "train_steps = 60000 // BATCH_SIZE\n",
    "simple_auto_history = autoencoder_model.fit(train_dataset, steps_per_epoch=train_steps, epochs=50)"
   ]
  },
  {
   "cell_type": "markdown",
   "metadata": {
    "id": "1_sKLXnBZFSc"
   },
   "source": [
    "## Display sample results\n",
    "\n",
    "You can now visualize the results. The utility functions below will help in plotting the encoded and decoded values."
   ]
  },
  {
   "cell_type": "code",
   "execution_count": 7,
   "metadata": {
    "executionInfo": {
     "elapsed": 687,
     "status": "ok",
     "timestamp": 1689504531515,
     "user": {
      "displayName": "Justin Ho",
      "userId": "00952880816773575798"
     },
     "user_tz": -480
    },
    "id": "5tgFgilORr0M"
   },
   "outputs": [],
   "source": [
    "def display_one_row(disp_images, offset, shape=(28, 28)):\n",
    "  '''Display sample outputs in one row.'''\n",
    "  for idx, test_image in enumerate(disp_images):\n",
    "    plt.subplot(3, 10, offset + idx + 1)\n",
    "    plt.xticks([])\n",
    "    plt.yticks([])\n",
    "    test_image = np.reshape(test_image, shape)\n",
    "    plt.imshow(test_image, cmap='gray')\n",
    "\n",
    "\n",
    "def display_results(disp_input_images, disp_encoded, disp_predicted, enc_shape=(8,4)):\n",
    "  '''Displays the input, encoded, and decoded output values.'''\n",
    "  plt.figure(figsize=(15, 5))\n",
    "  display_one_row(disp_input_images, 0, shape=(28,28,))\n",
    "  display_one_row(disp_encoded, 10, shape=enc_shape)\n",
    "  display_one_row(disp_predicted, 20, shape=(28,28,))"
   ]
  },
  {
   "cell_type": "code",
   "execution_count": 8,
   "metadata": {
    "colab": {
     "base_uri": "https://localhost:8080/",
     "height": 442
    },
    "executionInfo": {
     "elapsed": 2080,
     "status": "ok",
     "timestamp": 1689504538592,
     "user": {
      "displayName": "Justin Ho",
      "userId": "00952880816773575798"
     },
     "user_tz": -480
    },
    "id": "qtQyQRxRN_hH",
    "outputId": "63deaebf-78a5-4e5e-d44a-5240257dcee6"
   },
   "outputs": [
    {
     "name": "stdout",
     "output_type": "stream",
     "text": [
      "1/1 [==============================] - 0s 113ms/step\n",
      "1/1 [==============================] - 0s 101ms/step\n"
     ]
    },
    {
     "data": {
      "image/png": "[encoded data removed]",
      "text/plain": [
       "<Figure size 1500x500 with 30 Axes>"
      ]
     },
     "metadata": {},
     "output_type": "display_data"
    }
   ],
   "source": [
    "# take 1 batch of the dataset\n",
    "test_dataset = test_dataset.take(1)\n",
    "\n",
    "# take the input images and put them in a list\n",
    "output_samples = []\n",
    "for input_image, image in tfds.as_numpy(test_dataset):\n",
    "      output_samples = input_image\n",
    "\n",
    "# pick 10 random numbers to be used as indices to the list above\n",
    "idxs = np.random.choice(BATCH_SIZE, size=10)\n",
    "\n",
    "# get the encoder output\n",
    "encoded_predicted = encoder_model.predict(test_dataset)\n",
    "\n",
    "# get a prediction for the test batch\n",
    "simple_predicted = autoencoder_model.predict(test_dataset)\n",
    "\n",
    "# display the 10 samples, encodings and decoded values!\n",
    "display_results(output_samples[idxs], encoded_predicted[idxs], simple_predicted[idxs])"
   ]
  }
 ],
 "metadata": {
  "accelerator": "GPU",
  "colab": {
   "provenance": []
  },
  "kernelspec": {
   "display_name": "Python 3 (ipykernel)",
   "language": "python",
   "name": "python3"
  },
  "language_info": {
   "codemirror_mode": {
    "name": "ipython",
    "version": 3
   },
   "file_extension": ".py",
   "mimetype": "text/x-python",
   "name": "python",
   "nbconvert_exporter": "python",
   "pygments_lexer": "ipython3",
   "version": "3.8.16"
  },
  "widgets": {
   "application/vnd.jupyter.widget-state+json": {
    "009db43a11ee4122a48745e6c6b21f68": {
     "model_module": "@jupyter-widgets/controls",
     "model_module_version": "1.5.0",
     "model_name": "DescriptionStyleModel",
     "state": {
      "_model_module": "@jupyter-widgets/controls",
      "_model_module_version": "1.5.0",
      "_model_name": "DescriptionStyleModel",
      "_view_count": null,
      "_view_module": "@jupyter-widgets/base",
      "_view_module_version": "1.2.0",
      "_view_name": "StyleView",
      "description_width": ""
     }
    },
    "0722a260052849beae0006435537ae4a": {
     "model_module": "@jupyter-widgets/base",
     "model_module_version": "1.2.0",
     "model_name": "LayoutModel",
     "state": {
      "_model_module": "@jupyter-widgets/base",
      "_model_module_version": "1.2.0",
      "_model_name": "LayoutModel",
      "_view_count": null,
      "_view_module": "@jupyter-widgets/base",
      "_view_module_version": "1.2.0",
      "_view_name": "LayoutView",
      "align_content": null,
      "align_items": null,
      "align_self": null,
      "border": null,
      "bottom": null,
      "display": null,
      "flex": null,
      "flex_flow": null,
      "grid_area": null,
      "grid_auto_columns": null,
      "grid_auto_flow": null,
      "grid_auto_rows": null,
      "grid_column": null,
      "grid_gap": null,
      "grid_row": null,
      "grid_template_areas": null,
      "grid_template_columns": null,
      "grid_template_rows": null,
      "height": null,
      "justify_content": null,
      "justify_items": null,
      "left": null,
      "margin": null,
      "max_height": null,
      "max_width": null,
      "min_height": null,
      "min_width": null,
      "object_fit": null,
      "object_position": null,
      "order": null,
      "overflow": null,
      "overflow_x": null,
      "overflow_y": null,
      "padding": null,
      "right": null,
      "top": null,
      "visibility": null,
      "width": null
     }
    },
    "2bcdafdbb25e43d998a157bed0f4343e": {
     "model_module": "@jupyter-widgets/controls",
     "model_module_version": "1.5.0",
     "model_name": "HBoxModel",
     "state": {
      "_dom_classes": [],
      "_model_module": "@jupyter-widgets/controls",
      "_model_module_version": "1.5.0",
      "_model_name": "HBoxModel",
      "_view_count": null,
      "_view_module": "@jupyter-widgets/controls",
      "_view_module_version": "1.5.0",
      "_view_name": "HBoxView",
      "box_style": "",
      "children": [
       "IPY_MODEL_f8b6397bd3e94456b0c73827de12233d",
       "IPY_MODEL_eef24149b7794c1ba8ceb34fca8ecb43",
       "IPY_MODEL_f70893dbb0e74319850db56581d640f3"
      ],
      "layout": "IPY_MODEL_c7e845ce69c546b5b204df7200487868"
     }
    },
    "4e7980f640a249d1a7532b53de6f97ba": {
     "model_module": "@jupyter-widgets/controls",
     "model_module_version": "1.5.0",
     "model_name": "ProgressStyleModel",
     "state": {
      "_model_module": "@jupyter-widgets/controls",
      "_model_module_version": "1.5.0",
      "_model_name": "ProgressStyleModel",
      "_view_count": null,
      "_view_module": "@jupyter-widgets/base",
      "_view_module_version": "1.2.0",
      "_view_name": "StyleView",
      "bar_color": null,
      "description_width": ""
     }
    },
    "a9388972884d46dcaa5a1b11535f269e": {
     "model_module": "@jupyter-widgets/base",
     "model_module_version": "1.2.0",
     "model_name": "LayoutModel",
     "state": {
      "_model_module": "@jupyter-widgets/base",
      "_model_module_version": "1.2.0",
      "_model_name": "LayoutModel",
      "_view_count": null,
      "_view_module": "@jupyter-widgets/base",
      "_view_module_version": "1.2.0",
      "_view_name": "LayoutView",
      "align_content": null,
      "align_items": null,
      "align_self": null,
      "border": null,
      "bottom": null,
      "display": null,
      "flex": null,
      "flex_flow": null,
      "grid_area": null,
      "grid_auto_columns": null,
      "grid_auto_flow": null,
      "grid_auto_rows": null,
      "grid_column": null,
      "grid_gap": null,
      "grid_row": null,
      "grid_template_areas": null,
      "grid_template_columns": null,
      "grid_template_rows": null,
      "height": null,
      "justify_content": null,
      "justify_items": null,
      "left": null,
      "margin": null,
      "max_height": null,
      "max_width": null,
      "min_height": null,
      "min_width": null,
      "object_fit": null,
      "object_position": null,
      "order": null,
      "overflow": null,
      "overflow_x": null,
      "overflow_y": null,
      "padding": null,
      "right": null,
      "top": null,
      "visibility": null,
      "width": null
     }
    },
    "c7e845ce69c546b5b204df7200487868": {
     "model_module": "@jupyter-widgets/base",
     "model_module_version": "1.2.0",
     "model_name": "LayoutModel",
     "state": {
      "_model_module": "@jupyter-widgets/base",
      "_model_module_version": "1.2.0",
      "_model_name": "LayoutModel",
      "_view_count": null,
      "_view_module": "@jupyter-widgets/base",
      "_view_module_version": "1.2.0",
      "_view_name": "LayoutView",
      "align_content": null,
      "align_items": null,
      "align_self": null,
      "border": null,
      "bottom": null,
      "display": null,
      "flex": null,
      "flex_flow": null,
      "grid_area": null,
      "grid_auto_columns": null,
      "grid_auto_flow": null,
      "grid_auto_rows": null,
      "grid_column": null,
      "grid_gap": null,
      "grid_row": null,
      "grid_template_areas": null,
      "grid_template_columns": null,
      "grid_template_rows": null,
      "height": null,
      "justify_content": null,
      "justify_items": null,
      "left": null,
      "margin": null,
      "max_height": null,
      "max_width": null,
      "min_height": null,
      "min_width": null,
      "object_fit": null,
      "object_position": null,
      "order": null,
      "overflow": null,
      "overflow_x": null,
      "overflow_y": null,
      "padding": null,
      "right": null,
      "top": null,
      "visibility": null,
      "width": null
     }
    },
    "cbf6a48891c04b12ba1cd7119a775ac7": {
     "model_module": "@jupyter-widgets/base",
     "model_module_version": "1.2.0",
     "model_name": "LayoutModel",
     "state": {
      "_model_module": "@jupyter-widgets/base",
      "_model_module_version": "1.2.0",
      "_model_name": "LayoutModel",
      "_view_count": null,
      "_view_module": "@jupyter-widgets/base",
      "_view_module_version": "1.2.0",
      "_view_name": "LayoutView",
      "align_content": null,
      "align_items": null,
      "align_self": null,
      "border": null,
      "bottom": null,
      "display": null,
      "flex": null,
      "flex_flow": null,
      "grid_area": null,
      "grid_auto_columns": null,
      "grid_auto_flow": null,
      "grid_auto_rows": null,
      "grid_column": null,
      "grid_gap": null,
      "grid_row": null,
      "grid_template_areas": null,
      "grid_template_columns": null,
      "grid_template_rows": null,
      "height": null,
      "justify_content": null,
      "justify_items": null,
      "left": null,
      "margin": null,
      "max_height": null,
      "max_width": null,
      "min_height": null,
      "min_width": null,
      "object_fit": null,
      "object_position": null,
      "order": null,
      "overflow": null,
      "overflow_x": null,
      "overflow_y": null,
      "padding": null,
      "right": null,
      "top": null,
      "visibility": null,
      "width": null
     }
    },
    "dc1e81d934b04f1c9f738c1dda47ca4f": {
     "model_module": "@jupyter-widgets/controls",
     "model_module_version": "1.5.0",
     "model_name": "DescriptionStyleModel",
     "state": {
      "_model_module": "@jupyter-widgets/controls",
      "_model_module_version": "1.5.0",
      "_model_name": "DescriptionStyleModel",
      "_view_count": null,
      "_view_module": "@jupyter-widgets/base",
      "_view_module_version": "1.2.0",
      "_view_name": "StyleView",
      "description_width": ""
     }
    },
    "eef24149b7794c1ba8ceb34fca8ecb43": {
     "model_module": "@jupyter-widgets/controls",
     "model_module_version": "1.5.0",
     "model_name": "FloatProgressModel",
     "state": {
      "_dom_classes": [],
      "_model_module": "@jupyter-widgets/controls",
      "_model_module_version": "1.5.0",
      "_model_name": "FloatProgressModel",
      "_view_count": null,
      "_view_module": "@jupyter-widgets/controls",
      "_view_module_version": "1.5.0",
      "_view_name": "ProgressView",
      "bar_style": "success",
      "description": "",
      "description_tooltip": null,
      "layout": "IPY_MODEL_0722a260052849beae0006435537ae4a",
      "max": 5,
      "min": 0,
      "orientation": "horizontal",
      "style": "IPY_MODEL_4e7980f640a249d1a7532b53de6f97ba",
      "value": 5
     }
    },
    "f70893dbb0e74319850db56581d640f3": {
     "model_module": "@jupyter-widgets/controls",
     "model_module_version": "1.5.0",
     "model_name": "HTMLModel",
     "state": {
      "_dom_classes": [],
      "_model_module": "@jupyter-widgets/controls",
      "_model_module_version": "1.5.0",
      "_model_name": "HTMLModel",
      "_view_count": null,
      "_view_module": "@jupyter-widgets/controls",
      "_view_module_version": "1.5.0",
      "_view_name": "HTMLView",
      "description": "",
      "description_tooltip": null,
      "layout": "IPY_MODEL_cbf6a48891c04b12ba1cd7119a775ac7",
      "placeholder": "​",
      "style": "IPY_MODEL_dc1e81d934b04f1c9f738c1dda47ca4f",
      "value": " 5/5 [00:00&lt;00:00, 13.88 file/s]"
     }
    },
    "f8b6397bd3e94456b0c73827de12233d": {
     "model_module": "@jupyter-widgets/controls",
     "model_module_version": "1.5.0",
     "model_name": "HTMLModel",
     "state": {
      "_dom_classes": [],
      "_model_module": "@jupyter-widgets/controls",
      "_model_module_version": "1.5.0",
      "_model_name": "HTMLModel",
      "_view_count": null,
      "_view_module": "@jupyter-widgets/controls",
      "_view_module_version": "1.5.0",
      "_view_name": "HTMLView",
      "description": "",
      "description_tooltip": null,
      "layout": "IPY_MODEL_a9388972884d46dcaa5a1b11535f269e",
      "placeholder": "​",
      "style": "IPY_MODEL_009db43a11ee4122a48745e6c6b21f68",
      "value": "Dl Completed...: 100%"
     }
    }
   }
  }
 },
 "nbformat": 4,
 "nbformat_minor": 1
}
