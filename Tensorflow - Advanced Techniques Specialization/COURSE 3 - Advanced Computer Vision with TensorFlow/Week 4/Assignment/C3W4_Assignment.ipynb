{
 "cells": [
  {
   "cell_type": "markdown",
   "metadata": {
    "id": "vNQiSujBfjWj"
   },
   "source": [
    "# **Week 4 Assignment: Saliency Maps**\n",
    "\n",
    "Welcome to the final programming exercise of this course! For this week, your task is to adapt the [Cats vs Dogs](https://www.tensorflow.org/datasets/catalog/cats_vs_dogs) Class Activation Map ungraded lab (the second ungraded lab of this week) and make it generate saliency maps instead.\n",
    "\n",
    "As discussed in the lectures, a saliency map shows the pixels which greatly impacts the classification of an image.\n",
    "- This is done by getting the gradient of the loss with respect to changes in the pixel values, then plotting the results.\n",
    "- From there, you can see if your model is looking at the correct features when classifying an image.\n",
    "  - For example, if you're building a dog breed classifier, you should be wary if your saliency map shows strong pixels outside the dog itself (e.g. sky, grass, dog house, etc...).\n",
    "\n",
    "In this assignment you will be given prompts but less starter code to fill in in.\n",
    "- It's good practice for you to try and write as much of this code as you can from memory and from searching the web.\n",
    "- **Whenever you feel stuck**, please refer back to the labs of this week to see how to write the code. In particular, look at:\n",
    "  - **Ungraded Lab 2: Cats vs Dogs CAM**\n",
    "  - **Ungraded Lab 3: Saliency**\n",
    "\n",
    "\n"
   ]
  },
  {
   "cell_type": "markdown",
   "metadata": {
    "id": "wDHISSfBq40T"
   },
   "source": [
    "### Download test files and weights\n",
    "\n",
    "Let's begin by first downloading files we will be using for this lab."
   ]
  },
  {
   "cell_type": "code",
   "execution_count": 1,
   "metadata": {
    "colab": {
     "base_uri": "https://localhost:8080/"
    },
    "executionInfo": {
     "elapsed": 2457,
     "status": "ok",
     "timestamp": 1689489063990,
     "user": {
      "displayName": "Justin Ho",
      "userId": "05167881585785846941"
     },
     "user_tz": -480
    },
    "id": "Laatr1c6lr1w",
    "outputId": "69096faa-fd7a-4e3c-aa62-c04d6ca6aaff"
   },
   "outputs": [
    {
     "name": "stdout",
     "output_type": "stream",
     "text": [
      "--2023-07-16 06:31:01--  https://storage.googleapis.com/tensorflow-1-public/tensorflow-3-temp/MLColabImages/cat1.jpeg\n",
      "Resolving storage.googleapis.com (storage.googleapis.com)... 209.85.234.128, 142.250.152.128, 142.250.128.128, ...\n",
      "Connecting to storage.googleapis.com (storage.googleapis.com)|209.85.234.128|:443... connected.\n",
      "HTTP request sent, awaiting response... 200 OK\n",
      "Length: 414826 (405K) [image/jpeg]\n",
      "Saving to: ‘cat1.jpg’\n",
      "\n",
      "\r",
      "cat1.jpg              0%[                    ]       0  --.-KB/s               \r",
      "cat1.jpg            100%[===================>] 405.10K  --.-KB/s    in 0.005s  \n",
      "\n",
      "2023-07-16 06:31:01 (83.9 MB/s) - ‘cat1.jpg’ saved [414826/414826]\n",
      "\n",
      "--2023-07-16 06:31:01--  https://storage.googleapis.com/tensorflow-1-public/tensorflow-3-temp/MLColabImages/cat2.jpeg\n",
      "Resolving storage.googleapis.com (storage.googleapis.com)... 209.85.234.128, 142.250.152.128, 142.250.128.128, ...\n",
      "Connecting to storage.googleapis.com (storage.googleapis.com)|209.85.234.128|:443... connected.\n",
      "HTTP request sent, awaiting response... 200 OK\n",
      "Length: 599639 (586K) [image/jpeg]\n",
      "Saving to: ‘cat2.jpg’\n",
      "\n",
      "cat2.jpg            100%[===================>] 585.58K  --.-KB/s    in 0.007s  \n",
      "\n",
      "2023-07-16 06:31:01 (84.4 MB/s) - ‘cat2.jpg’ saved [599639/599639]\n",
      "\n",
      "--2023-07-16 06:31:01--  https://storage.googleapis.com/tensorflow-1-public/tensorflow-3-temp/MLColabImages/catanddog.jpeg\n",
      "Resolving storage.googleapis.com (storage.googleapis.com)... 209.85.234.128, 142.250.152.128, 142.250.128.128, ...\n",
      "Connecting to storage.googleapis.com (storage.googleapis.com)|209.85.234.128|:443... connected.\n",
      "HTTP request sent, awaiting response... 200 OK\n",
      "Length: 561943 (549K) [image/jpeg]\n",
      "Saving to: ‘catanddog.jpg’\n",
      "\n",
      "catanddog.jpg       100%[===================>] 548.77K  --.-KB/s    in 0.003s  \n",
      "\n",
      "2023-07-16 06:31:01 (163 MB/s) - ‘catanddog.jpg’ saved [561943/561943]\n",
      "\n",
      "--2023-07-16 06:31:01--  https://storage.googleapis.com/tensorflow-1-public/tensorflow-3-temp/MLColabImages/dog1.jpeg\n",
      "Resolving storage.googleapis.com (storage.googleapis.com)... 209.85.234.128, 142.250.152.128, 142.250.128.128, ...\n",
      "Connecting to storage.googleapis.com (storage.googleapis.com)|209.85.234.128|:443... connected.\n",
      "HTTP request sent, awaiting response... 200 OK\n",
      "Length: 338769 (331K) [image/jpeg]\n",
      "Saving to: ‘dog1.jpg’\n",
      "\n",
      "dog1.jpg            100%[===================>] 330.83K  --.-KB/s    in 0.006s  \n",
      "\n",
      "2023-07-16 06:31:01 (58.7 MB/s) - ‘dog1.jpg’ saved [338769/338769]\n",
      "\n",
      "--2023-07-16 06:31:01--  https://storage.googleapis.com/tensorflow-1-public/tensorflow-3-temp/MLColabImages/dog2.jpeg\n",
      "Resolving storage.googleapis.com (storage.googleapis.com)... 209.85.234.128, 142.250.152.128, 142.250.128.128, ...\n",
      "Connecting to storage.googleapis.com (storage.googleapis.com)|209.85.234.128|:443... connected.\n",
      "HTTP request sent, awaiting response... 200 OK\n",
      "Length: 494803 (483K) [image/jpeg]\n",
      "Saving to: ‘dog2.jpg’\n",
      "\n",
      "dog2.jpg            100%[===================>] 483.21K  --.-KB/s    in 0.004s  \n",
      "\n",
      "2023-07-16 06:31:01 (134 MB/s) - ‘dog2.jpg’ saved [494803/494803]\n",
      "\n",
      "--2023-07-16 06:31:01--  https://docs.google.com/uc?export=download&id=1kipXTxesGJKGY1B8uSPRvxROgOH90fih\n",
      "Resolving docs.google.com (docs.google.com)... 173.194.197.102, 173.194.197.101, 173.194.197.139, ...\n",
      "Connecting to docs.google.com (docs.google.com)|173.194.197.102|:443... connected.\n",
      "HTTP request sent, awaiting response... 303 See Other\n",
      "Location: https://doc-0o-6k-docs.googleusercontent.com/docs/securesc/ha0ro937gcuc7l7deffksulhg5h7mbp1/nr1m5ahi42abacnkbq9klr4i019t4lpq/1689489000000/17311369472417335306/*/1kipXTxesGJKGY1B8uSPRvxROgOH90fih?e=download&uuid=ed6a8bb1-8e16-43f9-a682-891c74d1d1c6 [following]\n",
      "Warning: wildcards not supported in HTTP.\n",
      "--2023-07-16 06:31:02--  https://doc-0o-6k-docs.googleusercontent.com/docs/securesc/ha0ro937gcuc7l7deffksulhg5h7mbp1/nr1m5ahi42abacnkbq9klr4i019t4lpq/1689489000000/17311369472417335306/*/1kipXTxesGJKGY1B8uSPRvxROgOH90fih?e=download&uuid=ed6a8bb1-8e16-43f9-a682-891c74d1d1c6\n",
      "Resolving doc-0o-6k-docs.googleusercontent.com (doc-0o-6k-docs.googleusercontent.com)... 173.194.197.132, 2607:f8b0:4001:c1b::84\n",
      "Connecting to doc-0o-6k-docs.googleusercontent.com (doc-0o-6k-docs.googleusercontent.com)|173.194.197.132|:443... connected.\n",
      "HTTP request sent, awaiting response... 200 OK\n",
      "Length: 414488 (405K) [application/octet-stream]\n",
      "Saving to: ‘0_epochs.h5’\n",
      "\n",
      "0_epochs.h5         100%[===================>] 404.77K  --.-KB/s    in 0.003s  \n",
      "\n",
      "2023-07-16 06:31:02 (139 MB/s) - ‘0_epochs.h5’ saved [414488/414488]\n",
      "\n",
      "--2023-07-16 06:31:02--  https://docs.google.com/uc?export=download&id=1oiV6tjy5k7h9OHGTQaf0Ohn3FmF-uOs1\n",
      "Resolving docs.google.com (docs.google.com)... 173.194.197.102, 173.194.197.101, 173.194.197.139, ...\n",
      "Connecting to docs.google.com (docs.google.com)|173.194.197.102|:443... connected.\n",
      "HTTP request sent, awaiting response... 303 See Other\n",
      "Location: https://doc-08-6k-docs.googleusercontent.com/docs/securesc/ha0ro937gcuc7l7deffksulhg5h7mbp1/dml8hamc7s2ku5t6ufdvcm1o0ahn4bp2/1689489000000/17311369472417335306/*/1oiV6tjy5k7h9OHGTQaf0Ohn3FmF-uOs1?e=download&uuid=250045cf-95ad-4a80-aacf-3d1a8170e940 [following]\n",
      "Warning: wildcards not supported in HTTP.\n",
      "--2023-07-16 06:31:03--  https://doc-08-6k-docs.googleusercontent.com/docs/securesc/ha0ro937gcuc7l7deffksulhg5h7mbp1/dml8hamc7s2ku5t6ufdvcm1o0ahn4bp2/1689489000000/17311369472417335306/*/1oiV6tjy5k7h9OHGTQaf0Ohn3FmF-uOs1?e=download&uuid=250045cf-95ad-4a80-aacf-3d1a8170e940\n",
      "Resolving doc-08-6k-docs.googleusercontent.com (doc-08-6k-docs.googleusercontent.com)... 173.194.197.132, 2607:f8b0:4001:c1b::84\n",
      "Connecting to doc-08-6k-docs.googleusercontent.com (doc-08-6k-docs.googleusercontent.com)|173.194.197.132|:443... connected.\n",
      "HTTP request sent, awaiting response... 200 OK\n",
      "Length: 414488 (405K) [application/octet-stream]\n",
      "Saving to: ‘15_epochs.h5’\n",
      "\n",
      "15_epochs.h5        100%[===================>] 404.77K  --.-KB/s    in 0.004s  \n",
      "\n",
      "2023-07-16 06:31:03 (113 MB/s) - ‘15_epochs.h5’ saved [414488/414488]\n",
      "\n"
     ]
    }
   ],
   "source": [
    "# Download the same test files from the Cats vs Dogs ungraded lab\n",
    "!wget -O cat1.jpg https://storage.googleapis.com/tensorflow-1-public/tensorflow-3-temp/MLColabImages/cat1.jpeg\n",
    "!wget -O cat2.jpg https://storage.googleapis.com/tensorflow-1-public/tensorflow-3-temp/MLColabImages/cat2.jpeg\n",
    "!wget -O catanddog.jpg https://storage.googleapis.com/tensorflow-1-public/tensorflow-3-temp/MLColabImages/catanddog.jpeg\n",
    "!wget -O dog1.jpg https://storage.googleapis.com/tensorflow-1-public/tensorflow-3-temp/MLColabImages/dog1.jpeg\n",
    "!wget -O dog2.jpg https://storage.googleapis.com/tensorflow-1-public/tensorflow-3-temp/MLColabImages/dog2.jpeg\n",
    "\n",
    "# Download prepared weights\n",
    "!wget --no-check-certificate 'https://docs.google.com/uc?export=download&id=1kipXTxesGJKGY1B8uSPRvxROgOH90fih' -O 0_epochs.h5\n",
    "!wget --no-check-certificate 'https://docs.google.com/uc?export=download&id=1oiV6tjy5k7h9OHGTQaf0Ohn3FmF-uOs1' -O 15_epochs.h5\n"
   ]
  },
  {
   "cell_type": "markdown",
   "metadata": {
    "id": "g24L3lKwqb3E"
   },
   "source": [
    "### Import the required packages\n",
    "\n",
    "Please import:\n",
    "\n",
    "  * Tensorflow\n",
    "  * Tensorflow Datasets\n",
    "  * Numpy\n",
    "  * Matplotlib's PyPlot\n",
    "  * Keras Models API classes you will be using\n",
    "  * Keras layers you will be using\n",
    "  * OpenCV (cv2)"
   ]
  },
  {
   "cell_type": "code",
   "execution_count": 2,
   "metadata": {
    "executionInfo": {
     "elapsed": 7009,
     "status": "ok",
     "timestamp": 1689489089874,
     "user": {
      "displayName": "Justin Ho",
      "userId": "05167881585785846941"
     },
     "user_tz": -480
    },
    "id": "X86LKLvpBO2S"
   },
   "outputs": [],
   "source": [
    "import tensorflow as tf\n",
    "import tensorflow_datasets as tfds\n",
    "import numpy as np\n",
    "import matplotlib.pyplot as plt\n",
    "from keras.layers import Conv2D, Flatten, Dense, MaxPooling2D, GlobalAveragePooling2D\n",
    "from keras.models import Sequential, Model\n",
    "import cv2"
   ]
  },
  {
   "cell_type": "markdown",
   "metadata": {
    "id": "th4dA3I8-9Ue"
   },
   "source": [
    "### Download and prepare the dataset.\n",
    "\n"
   ]
  },
  {
   "cell_type": "markdown",
   "metadata": {
    "id": "y1hujOK9rDyU"
   },
   "source": [
    "#### Load Cats vs Dogs\n",
    "\n",
    "* Required: Use Tensorflow Datasets to fetch the `cats_vs_dogs` dataset.\n",
    "  * Use the first 80% of the *train* split of the said dataset to create your training set.\n",
    "  * Set the `as_supervised` flag to create `(image, label)` pairs.\n",
    "    \n",
    "* Optional: You can create validation and test sets from the remaining 20% of the *train* split of `cats_vs_dogs` (i.e. you already used 80% for the train set). This is if you intend to train the model beyond what is required for submission."
   ]
  },
  {
   "cell_type": "code",
   "execution_count": 3,
   "metadata": {
    "colab": {
     "base_uri": "https://localhost:8080/",
     "height": 153,
     "referenced_widgets": [
      "65411223087d4b699142ad6c0acd7d8c",
      "13b20b7e84964035bfab9c374c4d3279",
      "155e219fb7fd41fa9edfa28e12706263",
      "341660c39a5a44998355df3c0a3605c1",
      "15c2160f6acf49a993f014a80711694f",
      "5175262426a940b4859603953bb12b81",
      "2113005c7f4b44c5aae0f3f2610a49e5",
      "5c4d5a1a755449f282104dbbfd319874",
      "aa0824e54d6e487b9dccd964c51f3667",
      "c6104c2e3fdc42f18018197cc87002d2",
      "6b83f7c297b4454c999e9a8714ba1484",
      "a6a0cb270f5640d8b0e013b88ac0d704",
      "8526496021094f4a97d41483abee48c4",
      "1b86c9b1b44444c799b50ff4b2ac1d91",
      "3b64149b1b5f4bc8b4e9f7dcbff39822",
      "dd8452319c3b4a2d986a2b51ad2699bc",
      "7f19fed078d64c5fac666eb9741e5e93",
      "954f1a2b79584e6085e67438c2e00b26",
      "7a91254d9cf84176960b40a1b8f2072a",
      "5a2e350ddcf24362a1e190d118ce50bd",
      "b49c685c8c96455d9a64ecfb6923eb6e",
      "e4a57fc9c2574ff1a367bc9809e5a3d4",
      "d27082c383f44ec3a2740a22398e42d3",
      "1ede2b80ae804f8fad89865727e0fd0a",
      "2d228881b6cf4308814374fc4b3f114a",
      "fac258cba59f465e85fd60d7fc9ff342",
      "e985d20aada641a68ceb60adecf9d539",
      "f6d87dee22444cf39465edbcd3424898",
      "44abfc4af52c41b5895e68db9fbe3e7d",
      "213f84051b7a4eaf8adf0e89a5cca089",
      "a1900751e984403296992f05334ffcc9",
      "7253b8a5696f424ab1dc6fb128dcbe4c",
      "039a354c0e0d45e099fa45a9c3af62af",
      "9e5adb9954ad4531bb4c24b16a786160",
      "33e9af5eed8f43588b7aa2ab43fb4070",
      "1d5d8ea4edec45aba93ce0feb32d5c8d",
      "db31bc4091804840b6540ab0be4a9ab4",
      "0c381ced4c5146a18a71a0d7d3563cad",
      "9cd5d0f85cea438a9fb181e7adf193f7",
      "1bbcd0af4e4e4f42ac821f6f9f15e31f",
      "964f28b4d4b44b389d628d7d4b2ad438",
      "8551b190fa194cf79083e51427374487",
      "45eaf0fac0c6491abef9640bb78b9927",
      "73b1250ed48b4ec2b1cc33093233836b",
      "9a9855690a4c4a45aa280c823ee538e0",
      "11091a206e98470bb1c1e2923372a0db",
      "579024c8b874411d88de385548e2f54d",
      "afc9822e5a9e41828560340d625a01f0",
      "9686bbbbef5a481e8474688f3b314993",
      "c0b31318fb6c481da39fa24591754a39",
      "a67820075bb849aa8246622ac48397af",
      "98e44930107b4399a1decd96313c8a83",
      "d706f387e2a3433f8ffc130158d26fc4",
      "ea77f98f767b4930820abaa2fbf18c9f",
      "7e15a1c3f002478f95f6923b659ce2c1"
     ]
    },
    "executionInfo": {
     "elapsed": 30209,
     "status": "ok",
     "timestamp": 1689489124213,
     "user": {
      "displayName": "Justin Ho",
      "userId": "05167881585785846941"
     },
     "user_tz": -480
    },
    "id": "7w5HNdoHBQv_",
    "outputId": "0d7fa186-e448-4822-b206-49616e319cd4"
   },
   "outputs": [
    {
     "name": "stdout",
     "output_type": "stream",
     "text": [
      "Downloading and preparing dataset 786.68 MiB (download: 786.68 MiB, generated: Unknown size, total: 786.68 MiB) to /root/tensorflow_datasets/cats_vs_dogs/4.0.0...\n"
     ]
    },
    {
     "data": {
      "application/vnd.jupyter.widget-view+json": {
       "model_id": "65411223087d4b699142ad6c0acd7d8c",
       "version_major": 2,
       "version_minor": 0
      },
      "text/plain": [
       "Dl Completed...: 0 url [00:00, ? url/s]"
      ]
     },
     "metadata": {},
     "output_type": "display_data"
    },
    {
     "data": {
      "application/vnd.jupyter.widget-view+json": {
       "model_id": "a6a0cb270f5640d8b0e013b88ac0d704",
       "version_major": 2,
       "version_minor": 0
      },
      "text/plain": [
       "Dl Size...: 0 MiB [00:00, ? MiB/s]"
      ]
     },
     "metadata": {},
     "output_type": "display_data"
    },
    {
     "data": {
      "application/vnd.jupyter.widget-view+json": {
       "model_id": "d27082c383f44ec3a2740a22398e42d3",
       "version_major": 2,
       "version_minor": 0
      },
      "text/plain": [
       "Generating splits...:   0%|          | 0/1 [00:00<?, ? splits/s]"
      ]
     },
     "metadata": {},
     "output_type": "display_data"
    },
    {
     "data": {
      "application/vnd.jupyter.widget-view+json": {
       "model_id": "9e5adb9954ad4531bb4c24b16a786160",
       "version_major": 2,
       "version_minor": 0
      },
      "text/plain": [
       "Generating train examples...:   0%|          | 0/23262 [00:00<?, ? examples/s]"
      ]
     },
     "metadata": {},
     "output_type": "display_data"
    },
    {
     "name": "stderr",
     "output_type": "stream",
     "text": [
      "WARNING:absl:1738 images were corrupted and were skipped\n"
     ]
    },
    {
     "data": {
      "application/vnd.jupyter.widget-view+json": {
       "model_id": "9a9855690a4c4a45aa280c823ee538e0",
       "version_major": 2,
       "version_minor": 0
      },
      "text/plain": [
       "Shuffling /root/tensorflow_datasets/cats_vs_dogs/4.0.0.incompleteXKRQ7B/cats_vs_dogs-train.tfrecord*...:   0%|…"
      ]
     },
     "metadata": {},
     "output_type": "display_data"
    },
    {
     "name": "stdout",
     "output_type": "stream",
     "text": [
      "Dataset cats_vs_dogs downloaded and prepared to /root/tensorflow_datasets/cats_vs_dogs/4.0.0. Subsequent calls will reuse this data.\n"
     ]
    }
   ],
   "source": [
    "# Load the data and create the train set (optional: val and test sets)\n",
    "\n",
    "train_data = tfds.load('cats_vs_dogs', split='train[:80%]', as_supervised=True)\n",
    "validation_data = tfds.load('cats_vs_dogs', split='train[80%:90%]', as_supervised=True)\n",
    "test_data = tfds.load('cats_vs_dogs', split='train[-10%:]', as_supervised=True)"
   ]
  },
  {
   "cell_type": "markdown",
   "metadata": {
    "id": "tXp0mV5Rbo76"
   },
   "source": [
    "#### Create preprocessing function\n",
    "\n",
    "Define a function that takes in an image and label. This will:\n",
    "  * cast the image to float32\n",
    "  * normalize the pixel values to [0, 1]\n",
    "  * resize the image to 300 x 300\n"
   ]
  },
  {
   "cell_type": "code",
   "execution_count": 4,
   "metadata": {
    "executionInfo": {
     "elapsed": 312,
     "status": "ok",
     "timestamp": 1689489129672,
     "user": {
      "displayName": "Justin Ho",
      "userId": "05167881585785846941"
     },
     "user_tz": -480
    },
    "id": "pRkrL2aK2_UZ"
   },
   "outputs": [],
   "source": [
    "def augmentimages(image, label):\n",
    "\n",
    "    image = tf.cast(image, dtype=tf.float32)\n",
    "    image = image / 255.\n",
    "    image = tf.image.resize(image, (300, 300))\n",
    "    return image, label"
   ]
  },
  {
   "cell_type": "markdown",
   "metadata": {
    "id": "pzvF61GV32k_"
   },
   "source": [
    "#### Preprocess the training set\n",
    "\n",
    "Use the `map()` and pass in the method that you just defined to preprocess the training set.\n"
   ]
  },
  {
   "cell_type": "code",
   "execution_count": 5,
   "metadata": {
    "executionInfo": {
     "elapsed": 274,
     "status": "ok",
     "timestamp": 1689489139633,
     "user": {
      "displayName": "Justin Ho",
      "userId": "05167881585785846941"
     },
     "user_tz": -480
    },
    "id": "vpNEfDKM353a"
   },
   "outputs": [],
   "source": [
    "augmented_training_data = train_data.map(augmentimages)"
   ]
  },
  {
   "cell_type": "markdown",
   "metadata": {
    "id": "Y4nFaMIMbrvA"
   },
   "source": [
    "#### Create batches of the training set.\n",
    "\n",
    "This is already provided for you. Normally, you will want to shuffle the training set. But for predictability in the grading, we will simply create the batches.\n",
    "\n",
    "```Python\n",
    "# Shuffle the data if you're working on your own personal project\n",
    "train_batches = augmented_training_data.shuffle(1024).batch(32)\n",
    "```"
   ]
  },
  {
   "cell_type": "code",
   "execution_count": 6,
   "metadata": {
    "executionInfo": {
     "elapsed": 3,
     "status": "ok",
     "timestamp": 1689489151316,
     "user": {
      "displayName": "Justin Ho",
      "userId": "05167881585785846941"
     },
     "user_tz": -480
    },
    "id": "POhDDPBY3vnL"
   },
   "outputs": [],
   "source": [
    "train_batches = augmented_training_data.batch(32)"
   ]
  },
  {
   "cell_type": "markdown",
   "metadata": {
    "id": "za5HxgT1_Cw6"
   },
   "source": [
    "### Build the Cats vs Dogs classifier\n",
    "\n",
    "You'll define a model that is nearly the same as the one in the Cats vs. Dogs CAM lab.\n",
    "* Please preserve the architecture of the model in the Cats vs Dogs CAM lab (this week's second lab) except for the final `Dense` layer.\n",
    "* You should modify the Cats vs Dogs model at the last dense layer to output 2 neurons instead of 1.\n",
    "  - This is because you will adapt the `do_salience()` function from the lab and that works with one-hot encoded labels.\n",
    "  - You can do this by changing the `units` argument of the output Dense layer from 1 to 2, with one for each of the classes (i.e. cats and dogs).\n",
    "  - You should choose an activation that outputs a probability for each of the 2 classes (i.e. categories), where the sum of the probabilities adds up to 1."
   ]
  },
  {
   "cell_type": "code",
   "execution_count": 7,
   "metadata": {
    "colab": {
     "base_uri": "https://localhost:8080/"
    },
    "executionInfo": {
     "elapsed": 837,
     "status": "ok",
     "timestamp": 1689489167209,
     "user": {
      "displayName": "Justin Ho",
      "userId": "05167881585785846941"
     },
     "user_tz": -480
    },
    "id": "IoyCA80GBSlG",
    "outputId": "4da13c14-a255-4a5b-e4c9-f84e91c297dc"
   },
   "outputs": [
    {
     "name": "stdout",
     "output_type": "stream",
     "text": [
      "Model: \"sequential\"\n",
      "_________________________________________________________________\n",
      " Layer (type)                Output Shape              Param #   \n",
      "=================================================================\n",
      " conv2d (Conv2D)             (None, 300, 300, 16)      448       \n",
      "                                                                 \n",
      " max_pooling2d (MaxPooling2D  (None, 150, 150, 16)     0         \n",
      " )                                                               \n",
      "                                                                 \n",
      " conv2d_1 (Conv2D)           (None, 150, 150, 32)      4640      \n",
      "                                                                 \n",
      " max_pooling2d_1 (MaxPooling  (None, 75, 75, 32)       0         \n",
      " 2D)                                                             \n",
      "                                                                 \n",
      " conv2d_2 (Conv2D)           (None, 75, 75, 64)        18496     \n",
      "                                                                 \n",
      " max_pooling2d_2 (MaxPooling  (None, 37, 37, 64)       0         \n",
      " 2D)                                                             \n",
      "                                                                 \n",
      " conv2d_3 (Conv2D)           (None, 37, 37, 128)       73856     \n",
      "                                                                 \n",
      " global_average_pooling2d (G  (None, 128)              0         \n",
      " lobalAveragePooling2D)                                          \n",
      "                                                                 \n",
      " dense (Dense)               (None, 2)                 258       \n",
      "                                                                 \n",
      "=================================================================\n",
      "Total params: 97,698\n",
      "Trainable params: 97,698\n",
      "Non-trainable params: 0\n",
      "_________________________________________________________________\n"
     ]
    }
   ],
   "source": [
    "model = Sequential([\n",
    "    Conv2D(16, input_shape=(300, 300, 3), kernel_size=3, activation='relu', padding='same'),\n",
    "    MaxPooling2D(pool_size=2),\n",
    "    Conv2D(32, kernel_size=(3, 3), activation='relu', padding='same'),\n",
    "    MaxPooling2D(pool_size=2),\n",
    "    Conv2D(64, kernel_size=(3, 3), activation='relu', padding='same'),\n",
    "    MaxPooling2D(pool_size=2),\n",
    "    Conv2D(128, kernel_size=(3, 3), activation='relu', padding='same'),\n",
    "    GlobalAveragePooling2D(),\n",
    "    Dense(2, activation='softmax')\n",
    "])\n",
    "model.summary()"
   ]
  },
  {
   "cell_type": "markdown",
   "metadata": {
    "id": "ktnATyllHXC4"
   },
   "source": [
    "**Expected Output:**\n",
    "\n",
    "```txt\n",
    "Model: \"sequential\"\n",
    "_________________________________________________________________\n",
    "Layer (type)                 Output Shape              Param #   \n",
    "=================================================================\n",
    "conv2d (Conv2D)              (None, 300, 300, 16)      448       \n",
    "_________________________________________________________________\n",
    "max_pooling2d (MaxPooling2D) (None, 150, 150, 16)      0         \n",
    "_________________________________________________________________\n",
    "conv2d_1 (Conv2D)            (None, 150, 150, 32)      4640      \n",
    "_________________________________________________________________\n",
    "max_pooling2d_1 (MaxPooling2 (None, 75, 75, 32)        0         \n",
    "_________________________________________________________________\n",
    "conv2d_2 (Conv2D)            (None, 75, 75, 64)        18496     \n",
    "_________________________________________________________________\n",
    "max_pooling2d_2 (MaxPooling2 (None, 37, 37, 64)        0         \n",
    "_________________________________________________________________\n",
    "conv2d_3 (Conv2D)            (None, 37, 37, 128)       73856     \n",
    "_________________________________________________________________\n",
    "global_average_pooling2d (Gl (None, 128)               0         \n",
    "_________________________________________________________________\n",
    "dense (Dense)                (None, 2)                 258       \n",
    "=================================================================\n",
    "Total params: 97,698\n",
    "Trainable params: 97,698\n",
    "Non-trainable params: 0\n",
    "_________________________________________________________________\n",
    "```"
   ]
  },
  {
   "cell_type": "markdown",
   "metadata": {
    "id": "J6nou82P_b5d"
   },
   "source": [
    "### Create a function to generate the saliency map\n",
    "\n",
    "Complete the `do_salience()` function below to save the **normalized_tensor** image.\n",
    "- The major steps are listed as comments below.\n",
    "  - Each section may involve multiple lines of code.\n",
    "- Try your best to write the code from memory or by performing web searches.\n",
    "  - Whenever you get stuck, you can review the \"saliency\" lab (the third lab of this week) to help remind you of what code to write"
   ]
  },
  {
   "cell_type": "code",
   "execution_count": 8,
   "metadata": {
    "executionInfo": {
     "elapsed": 342,
     "status": "ok",
     "timestamp": 1689489304861,
     "user": {
      "displayName": "Justin Ho",
      "userId": "05167881585785846941"
     },
     "user_tz": -480
    },
    "id": "sKbvh3bl9vnG"
   },
   "outputs": [],
   "source": [
    "def do_salience(image, model, label, prefix):\n",
    "    ''' Generates the saliency map of a given image.\n",
    "\n",
    "    Args:\n",
    "        image (file) -- picture that the model will classify\n",
    "        model (keras Model) -- your cats and dogs classifier\n",
    "        label (int) -- ground truth label of the image\n",
    "        prefix (string) -- prefix to add to the filename of the saliency map\n",
    "    '''\n",
    "\n",
    "    # Read the image and convert channel order from BGR to RGB\n",
    "    img = tf.io.read_file(image)\n",
    "    img = tf.image.decode_png(img, channels=3)\n",
    "\n",
    "    # Resize the image to 300 x 300 and normalize pixel values to the range [0, 1]\n",
    "    img, label = augmentimages(img, label)\n",
    "\n",
    "    # Add an additional dimension (for the batch), and save this in a new variable\n",
    "    inputs = tf.expand_dims(img, axis=0)\n",
    "\n",
    "    # Declare the number of classes\n",
    "    num_classes = 2\n",
    "\n",
    "    # Define the expected output array by one-hot encoding the label\n",
    "    # The length of the array is equal to the number of classes\n",
    "    expected_output = tf.one_hot([label] * inputs.shape[0], num_classes)\n",
    "\n",
    "    # Witin the GradientTape block:\n",
    "    # Cast the image as a tf.float32\n",
    "    # Use the tape to watch the float32 image\n",
    "    # Get the model's prediction by passing in the float32 image\n",
    "    # Compute an appropriate loss\n",
    "    # between the expected output and model predictions.\n",
    "    # you may want to print the predictions to see if the probabilities adds up to 1\n",
    "    with tf.GradientTape() as tape:\n",
    "        tape.watch(inputs)\n",
    "        predictions = model(inputs)\n",
    "        loss = tf.keras.losses.categorical_crossentropy(expected_output,\n",
    "                                                        predictions)\n",
    "\n",
    "    # get the gradients of the loss with respect to the model's input image\n",
    "    gradients = tape.gradient(loss, inputs)\n",
    "\n",
    "    # generate the grayscale tensor\n",
    "    grayscale_tensor = tf.reduce_sum(tf.abs(gradients), axis=-1)\n",
    "\n",
    "    # normalize the pixel values to be in the range [0, 255].\n",
    "    # the max value in the grayscale tensor will be pushed to 255.\n",
    "    # the min value will be pushed to 0.\n",
    "    # Use the formula: 255 * (x - min) / (max - min)\n",
    "    # Use tf.reduce_max, tf.reduce_min\n",
    "    # Cast the tensor as a tf.uint8\n",
    "    tensor_min = tf.reduce_min(grayscale_tensor)\n",
    "    tensor_max = tf.reduce_max(grayscale_tensor)\n",
    "    normalized_tensor = 255 * (grayscale_tensor - tensor_min) / (tensor_max - tensor_min)\n",
    "    normalized_tensor = tf.cast(normalized_tensor, dtype=tf.uint8)\n",
    "\n",
    "    # Remove dimensions that are size 1\n",
    "    normalized_tensor = tf.squeeze(normalized_tensor)\n",
    "\n",
    "    # plot the normalized tensor\n",
    "    # Set the figure size to 8 by 8\n",
    "    # do not display the axis\n",
    "    # use the 'gray' colormap\n",
    "    # This code is provided for you.\n",
    "    # plt.figure(figsize=(8, 8))\n",
    "    # plt.axis('off')\n",
    "    # plt.imshow(normalized_tensor, cmap='gray')\n",
    "    # plt.show()\n",
    "\n",
    "    # optional: superimpose the saliency map with the original image, then display it.\n",
    "    # we encourage you to do this to visualize your results better\n",
    "    # YOUR CODE HERE\n",
    "    gradient_color = cv2.applyColorMap(normalized_tensor.numpy(), cv2.COLORMAP_HOT)\n",
    "    gradient_color = tf.cast(gradient_color / 255.0, dtype=tf.float32)\n",
    "    super_imposed = cv2.addWeighted(img.numpy(), 0.5, gradient_color.numpy(), 0.5, 0.0)\n",
    "    plt.figure(figsize=(8, 8))\n",
    "    plt.axis('off')\n",
    "    plt.imshow(super_imposed)\n",
    "    # plt.show()\n",
    "\n",
    "    # save the normalized tensor image to a file. this is already provided for you.\n",
    "    salient_image_name = prefix + image\n",
    "    normalized_tensor = tf.expand_dims(normalized_tensor, -1)\n",
    "    normalized_tensor = tf.io.encode_jpeg(normalized_tensor, quality=100, format='grayscale')\n",
    "    writer = tf.io.write_file(salient_image_name, normalized_tensor)"
   ]
  },
  {
   "cell_type": "markdown",
   "metadata": {
    "id": "li1idRy-parp"
   },
   "source": [
    "### Generate saliency maps with untrained model\n",
    "\n",
    "As a sanity check, you will load initialized (i.e. untrained) weights and use the function you just implemented.\n",
    "- This will check if you built the model correctly and are able to create a saliency map.\n",
    "\n",
    "If an error pops up when loading the weights or the function does not run, please check your implementation for bugs.\n",
    "- You can check the ungraded labs of this week.\n",
    "\n",
    "Please apply your `do_salience()` function on the following image files:\n",
    "\n",
    "* `cat1.jpg`\n",
    "* `cat2.jpg`\n",
    "* `catanddog.jpg`\n",
    "* `dog1.jpg`\n",
    "* `dog2.jpg`\n",
    "\n",
    "Cats will have the label `0` while dogs will have the label `1`.\n",
    "- For the catanddog, please use `0`.\n",
    "- For the prefix of the salience images that will be generated, please use the prefix `epoch0_salient`."
   ]
  },
  {
   "cell_type": "code",
   "execution_count": 9,
   "metadata": {
    "colab": {
     "base_uri": "https://localhost:8080/",
     "height": 1000,
     "output_embedded_package_id": "18KsQJIhwguseYPRk3-8x6vbyuTtZcWJQ"
    },
    "executionInfo": {
     "elapsed": 12742,
     "status": "ok",
     "timestamp": 1689489332692,
     "user": {
      "displayName": "Justin Ho",
      "userId": "05167881585785846941"
     },
     "user_tz": -480
    },
    "id": "k39fF4n8fgG0",
    "outputId": "f6c189b9-6a61-4682-a60a-27a9db7c4e4b"
   },
   "outputs": [
    {
     "data": {
      "text/plain": [
       "Output hidden; open in https://colab.research.google.com to view."
      ]
     },
     "metadata": {},
     "output_type": "display_data"
    }
   ],
   "source": [
    "# load initial weights\n",
    "model.load_weights('0_epochs.h5')\n",
    "\n",
    "# generate the saliency maps for the 5 test images\n",
    "do_salience(\"cat1.jpg\", model, 0, \"epoch0_salient\")\n",
    "do_salience(\"cat2.jpg\", model, 0, \"epoch0_salient\")\n",
    "do_salience(\"catanddog.jpg\", model, 0, \"epoch0_salient\")\n",
    "do_salience(\"dog1.jpg\", model, 1, \"epoch0_salient\")\n",
    "do_salience(\"dog2.jpg\", model, 1, \"epoch0_salient\")"
   ]
  },
  {
   "cell_type": "markdown",
   "metadata": {
    "id": "8kcdyut5E2Tk"
   },
   "source": [
    "With untrained weights, you will see something like this in the output.\n",
    "- You will see strong pixels outside the cat that the model uses that when classifying the image.\n",
    "- After training that these will slowly start to localize to features inside the pet.\n",
    "\n",
    "<img src='https://drive.google.com/uc?export=view&id=1h5wP52lwbBUMVLlsgyb-tQl_I9eu42X7' alt='saliency'>\n"
   ]
  },
  {
   "cell_type": "markdown",
   "metadata": {
    "id": "-ZhZgd0x_JvN"
   },
   "source": [
    "### Configure the model for training\n",
    "\n",
    "Use `model.compile()` to define the loss, metrics and optimizer.\n",
    "\n",
    "* Choose a loss function for the model to use when training.\n",
    "  - For `model.compile()` the ground truth labels from the training set are passed to the model as **integers** (i.e. 0 or 1) as opposed to one-hot encoded vectors.\n",
    "  - The model predictions are class probabilities.\n",
    "  - You can browse the [tf.keras.losses](https://www.tensorflow.org/api_docs/python/tf/keras/losses) and determine which one is best used for this case.\n",
    "  - Remember that you can pass the function as a string (e.g. `loss = 'loss_function_a'`).\n",
    "\n",
    "* For metrics, you can measure `accuracy`.\n",
    "* For the optimizer, please use [RMSProp](https://www.tensorflow.org/api_docs/python/tf/keras/optimizers/RMSprop).\n",
    "  - Please use the default learning rate of `0.001`."
   ]
  },
  {
   "cell_type": "code",
   "execution_count": 11,
   "metadata": {
    "executionInfo": {
     "elapsed": 271,
     "status": "ok",
     "timestamp": 1689489366242,
     "user": {
      "displayName": "Justin Ho",
      "userId": "05167881585785846941"
     },
     "user_tz": -480
    },
    "id": "DkyWZ5KdBo-z"
   },
   "outputs": [],
   "source": [
    "model.compile(optimizer='rmsprop', loss='sparse_categorical_crossentropy', metrics=['accuracy'])"
   ]
  },
  {
   "cell_type": "markdown",
   "metadata": {
    "id": "otIoJJw7_ZFN"
   },
   "source": [
    "### Train your model\n",
    "\n",
    "Please pass in the training batches and train your model for just **3** epochs.\n",
    "- **Note:** Please do not exceed 3 epochs because the grader will expect 3 epochs when grading your output.\n",
    "  - After submitting your zipped folder for grading, feel free to continue training to improve your model.\n",
    "\n",
    "We have loaded pre-trained weights for 15 epochs so you can get a better output when you visualize the saliency maps."
   ]
  },
  {
   "cell_type": "code",
   "execution_count": 12,
   "metadata": {
    "colab": {
     "base_uri": "https://localhost:8080/"
    },
    "executionInfo": {
     "elapsed": 175561,
     "status": "ok",
     "timestamp": 1689489551955,
     "user": {
      "displayName": "Justin Ho",
      "userId": "05167881585785846941"
     },
     "user_tz": -480
    },
    "id": "5YSNp7k7BqfL",
    "outputId": "ac4679f2-6413-4c04-a784-4670aec27e32"
   },
   "outputs": [
    {
     "name": "stdout",
     "output_type": "stream",
     "text": [
      "Epoch 1/3\n",
      "582/582 [==============================] - 50s 80ms/step - loss: 0.4430 - accuracy: 0.8017\n",
      "Epoch 2/3\n",
      "582/582 [==============================] - 44s 75ms/step - loss: 0.4309 - accuracy: 0.8087\n",
      "Epoch 3/3\n",
      "582/582 [==============================] - 43s 74ms/step - loss: 0.4223 - accuracy: 0.8124\n"
     ]
    },
    {
     "data": {
      "text/plain": [
       "<keras.callbacks.History at 0x7d6d4df6d510>"
      ]
     },
     "execution_count": 12,
     "metadata": {},
     "output_type": "execute_result"
    }
   ],
   "source": [
    "# load pre-trained weights\n",
    "model.load_weights('15_epochs.h5')\n",
    "\n",
    "# train the model for just 3 epochs\n",
    "model.fit(train_batches, epochs=3)"
   ]
  },
  {
   "cell_type": "markdown",
   "metadata": {
    "id": "2tTqtLN3tQJx"
   },
   "source": [
    "### Generate saliency maps at 18 epochs\n",
    "\n",
    "You will now use your `do_salience()` function again on the same test images. Please use the same parameters as before but this time, use the prefix `salient`."
   ]
  },
  {
   "cell_type": "code",
   "execution_count": 13,
   "metadata": {
    "colab": {
     "base_uri": "https://localhost:8080/",
     "height": 1000,
     "output_embedded_package_id": "1o89Yrt5fCmQ9HHrb-ByGvKyBLb6rpcln"
    },
    "executionInfo": {
     "elapsed": 5309,
     "status": "ok",
     "timestamp": 1689489564055,
     "user": {
      "displayName": "Justin Ho",
      "userId": "05167881585785846941"
     },
     "user_tz": -480
    },
    "id": "bXFtabyVhIKN",
    "outputId": "8cfae910-d02e-4071-dc2d-97f0124b2513"
   },
   "outputs": [
    {
     "data": {
      "text/plain": [
       "Output hidden; open in https://colab.research.google.com to view."
      ]
     },
     "metadata": {},
     "output_type": "display_data"
    }
   ],
   "source": [
    "do_salience(\"cat1.jpg\", model, 0, \"salient\")\n",
    "do_salience(\"cat2.jpg\", model, 0, \"salient\")\n",
    "do_salience(\"catanddog.jpg\", model, 0, \"salient\")\n",
    "do_salience(\"dog1.jpg\", model, 1, \"salient\")\n",
    "do_salience(\"dog2.jpg\", model, 1, \"salient\")"
   ]
  },
  {
   "cell_type": "markdown",
   "metadata": {
    "id": "wGTFcfEgM6aV"
   },
   "source": [
    "You should see that the strong pixels are now very less than the ones you generated earlier. Moreover, most of them are now found on features within the pet."
   ]
  },
  {
   "cell_type": "markdown",
   "metadata": {
    "id": "rPtx-u4u_jL5"
   },
   "source": [
    "### Zip the images for grading\n",
    "\n",
    "Please run the cell below to zip the normalized tensor images you generated at 18 epochs. If you get an error, please check that you have files named:\n",
    "\n",
    "* salientcat1.jpg\n",
    "* salientcat2.jpg\n",
    "* salientcatanddog.jpg\n",
    "* salientdog1.jpg\n",
    "* salientdog2.jpg\n",
    "\n",
    "Afterwards, please download the **images.zip** from the Files bar on the left."
   ]
  },
  {
   "cell_type": "code",
   "execution_count": 14,
   "metadata": {
    "colab": {
     "base_uri": "https://localhost:8080/"
    },
    "executionInfo": {
     "elapsed": 404,
     "status": "ok",
     "timestamp": 1689489584674,
     "user": {
      "displayName": "Justin Ho",
      "userId": "05167881585785846941"
     },
     "user_tz": -480
    },
    "id": "b-MhcA8Uh8H_",
    "outputId": "f7816f0a-72ba-435c-fba4-55af954849a3"
   },
   "outputs": [
    {
     "name": "stdout",
     "output_type": "stream",
     "text": [
      "rm: cannot remove 'images.zip': No such file or directory\n",
      "images.zip generated!\n"
     ]
    }
   ],
   "source": [
    "from zipfile import ZipFile\n",
    "\n",
    "!rm images.zip\n",
    "\n",
    "filenames = ['cat1.jpg', 'cat2.jpg', 'catanddog.jpg', 'dog1.jpg', 'dog2.jpg']\n",
    "\n",
    "# writing files to a zipfile\n",
    "with ZipFile('images.zip','w') as zip:\n",
    "  for file in filenames:\n",
    "    zip.write('salient' + file)\n",
    "\n",
    "print(\"images.zip generated!\")"
   ]
  },
  {
   "cell_type": "markdown",
   "metadata": {
    "id": "SMOgx-N55A6p"
   },
   "source": [
    "### Optional: Saliency Maps at 95 epochs\n",
    "\n",
    "We have pre-trained weights generated at 95 epochs and you can see the difference between the maps you generated at 18 epochs."
   ]
  },
  {
   "cell_type": "code",
   "execution_count": 15,
   "metadata": {
    "colab": {
     "base_uri": "https://localhost:8080/",
     "height": 1000,
     "output_embedded_package_id": "12BmqUw-7uMxEAWFe5jsKM0FVnvoGY2Dg"
    },
    "executionInfo": {
     "elapsed": 5270,
     "status": "ok",
     "timestamp": 1689489607346,
     "user": {
      "displayName": "Justin Ho",
      "userId": "05167881585785846941"
     },
     "user_tz": -480
    },
    "id": "elUfhSmMvJZh",
    "outputId": "26e5ee2f-ff4c-4959-f327-a5b56eeddffd"
   },
   "outputs": [
    {
     "data": {
      "text/plain": [
       "Output hidden; open in https://colab.research.google.com to view."
      ]
     },
     "metadata": {},
     "output_type": "display_data"
    }
   ],
   "source": [
    "!wget --no-check-certificate 'https://docs.google.com/uc?export=download&id=14vFpBJsL_TNQeugX8vUTv8dYZxn__fQY' -O 95_epochs.h5\n",
    "\n",
    "model.load_weights('95_epochs.h5')\n",
    "\n",
    "do_salience('cat1.jpg', model, 0, \"epoch95_salient\")\n",
    "do_salience('cat2.jpg', model, 0, \"epoch95_salient\")\n",
    "do_salience('catanddog.jpg', model, 0, \"epoch95_salient\")\n",
    "do_salience('dog1.jpg', model, 1, \"epoch95_salient\")\n",
    "do_salience('dog2.jpg', model, 1, \"epoch95_salient\")"
   ]
  },
  {
   "cell_type": "markdown",
   "metadata": {
    "id": "HuKLdQhvAaTd"
   },
   "source": [
    "**Congratulations on completing this week's assignment! Please go back to the Coursera classroom and upload the zipped folder to be graded.**"
   ]
  }
 ],
 "metadata": {
  "accelerator": "GPU",
  "colab": {
   "gpuType": "T4",
   "provenance": []
  },
  "kernelspec": {
   "display_name": "Python 3 (ipykernel)",
   "language": "python",
   "name": "python3"
  },
  "language_info": {
   "codemirror_mode": {
    "name": "ipython",
    "version": 3
   },
   "file_extension": ".py",
   "mimetype": "text/x-python",
   "name": "python",
   "nbconvert_exporter": "python",
   "pygments_lexer": "ipython3",
   "version": "3.8.16"
  },
  "widgets": {
   "application/vnd.jupyter.widget-state+json": {
    "039a354c0e0d45e099fa45a9c3af62af": {
     "model_module": "@jupyter-widgets/controls",
     "model_module_version": "1.5.0",
     "model_name": "DescriptionStyleModel",
     "state": {
      "_model_module": "@jupyter-widgets/controls",
      "_model_module_version": "1.5.0",
      "_model_name": "DescriptionStyleModel",
      "_view_count": null,
      "_view_module": "@jupyter-widgets/base",
      "_view_module_version": "1.2.0",
      "_view_name": "StyleView",
      "description_width": ""
     }
    },
    "0c381ced4c5146a18a71a0d7d3563cad": {
     "model_module": "@jupyter-widgets/base",
     "model_module_version": "1.2.0",
     "model_name": "LayoutModel",
     "state": {
      "_model_module": "@jupyter-widgets/base",
      "_model_module_version": "1.2.0",
      "_model_name": "LayoutModel",
      "_view_count": null,
      "_view_module": "@jupyter-widgets/base",
      "_view_module_version": "1.2.0",
      "_view_name": "LayoutView",
      "align_content": null,
      "align_items": null,
      "align_self": null,
      "border": null,
      "bottom": null,
      "display": null,
      "flex": null,
      "flex_flow": null,
      "grid_area": null,
      "grid_auto_columns": null,
      "grid_auto_flow": null,
      "grid_auto_rows": null,
      "grid_column": null,
      "grid_gap": null,
      "grid_row": null,
      "grid_template_areas": null,
      "grid_template_columns": null,
      "grid_template_rows": null,
      "height": null,
      "justify_content": null,
      "justify_items": null,
      "left": null,
      "margin": null,
      "max_height": null,
      "max_width": null,
      "min_height": null,
      "min_width": null,
      "object_fit": null,
      "object_position": null,
      "order": null,
      "overflow": null,
      "overflow_x": null,
      "overflow_y": null,
      "padding": null,
      "right": null,
      "top": null,
      "visibility": "hidden",
      "width": null
     }
    },
    "11091a206e98470bb1c1e2923372a0db": {
     "model_module": "@jupyter-widgets/controls",
     "model_module_version": "1.5.0",
     "model_name": "HTMLModel",
     "state": {
      "_dom_classes": [],
      "_model_module": "@jupyter-widgets/controls",
      "_model_module_version": "1.5.0",
      "_model_name": "HTMLModel",
      "_view_count": null,
      "_view_module": "@jupyter-widgets/controls",
      "_view_module_version": "1.5.0",
      "_view_name": "HTMLView",
      "description": "",
      "description_tooltip": null,
      "layout": "IPY_MODEL_c0b31318fb6c481da39fa24591754a39",
      "placeholder": "​",
      "style": "IPY_MODEL_a67820075bb849aa8246622ac48397af",
      "value": "Shuffling /root/tensorflow_datasets/cats_vs_dogs/4.0.0.incompleteXKRQ7B/cats_vs_dogs-train.tfrecord*...:  98%"
     }
    },
    "13b20b7e84964035bfab9c374c4d3279": {
     "model_module": "@jupyter-widgets/controls",
     "model_module_version": "1.5.0",
     "model_name": "HTMLModel",
     "state": {
      "_dom_classes": [],
      "_model_module": "@jupyter-widgets/controls",
      "_model_module_version": "1.5.0",
      "_model_name": "HTMLModel",
      "_view_count": null,
      "_view_module": "@jupyter-widgets/controls",
      "_view_module_version": "1.5.0",
      "_view_name": "HTMLView",
      "description": "",
      "description_tooltip": null,
      "layout": "IPY_MODEL_5175262426a940b4859603953bb12b81",
      "placeholder": "​",
      "style": "IPY_MODEL_2113005c7f4b44c5aae0f3f2610a49e5",
      "value": "Dl Completed...: 100%"
     }
    },
    "155e219fb7fd41fa9edfa28e12706263": {
     "model_module": "@jupyter-widgets/controls",
     "model_module_version": "1.5.0",
     "model_name": "FloatProgressModel",
     "state": {
      "_dom_classes": [],
      "_model_module": "@jupyter-widgets/controls",
      "_model_module_version": "1.5.0",
      "_model_name": "FloatProgressModel",
      "_view_count": null,
      "_view_module": "@jupyter-widgets/controls",
      "_view_module_version": "1.5.0",
      "_view_name": "ProgressView",
      "bar_style": "success",
      "description": "",
      "description_tooltip": null,
      "layout": "IPY_MODEL_5c4d5a1a755449f282104dbbfd319874",
      "max": 1,
      "min": 0,
      "orientation": "horizontal",
      "style": "IPY_MODEL_aa0824e54d6e487b9dccd964c51f3667",
      "value": 1
     }
    },
    "15c2160f6acf49a993f014a80711694f": {
     "model_module": "@jupyter-widgets/base",
     "model_module_version": "1.2.0",
     "model_name": "LayoutModel",
     "state": {
      "_model_module": "@jupyter-widgets/base",
      "_model_module_version": "1.2.0",
      "_model_name": "LayoutModel",
      "_view_count": null,
      "_view_module": "@jupyter-widgets/base",
      "_view_module_version": "1.2.0",
      "_view_name": "LayoutView",
      "align_content": null,
      "align_items": null,
      "align_self": null,
      "border": null,
      "bottom": null,
      "display": null,
      "flex": null,
      "flex_flow": null,
      "grid_area": null,
      "grid_auto_columns": null,
      "grid_auto_flow": null,
      "grid_auto_rows": null,
      "grid_column": null,
      "grid_gap": null,
      "grid_row": null,
      "grid_template_areas": null,
      "grid_template_columns": null,
      "grid_template_rows": null,
      "height": null,
      "justify_content": null,
      "justify_items": null,
      "left": null,
      "margin": null,
      "max_height": null,
      "max_width": null,
      "min_height": null,
      "min_width": null,
      "object_fit": null,
      "object_position": null,
      "order": null,
      "overflow": null,
      "overflow_x": null,
      "overflow_y": null,
      "padding": null,
      "right": null,
      "top": null,
      "visibility": null,
      "width": null
     }
    },
    "1b86c9b1b44444c799b50ff4b2ac1d91": {
     "model_module": "@jupyter-widgets/controls",
     "model_module_version": "1.5.0",
     "model_name": "FloatProgressModel",
     "state": {
      "_dom_classes": [],
      "_model_module": "@jupyter-widgets/controls",
      "_model_module_version": "1.5.0",
      "_model_name": "FloatProgressModel",
      "_view_count": null,
      "_view_module": "@jupyter-widgets/controls",
      "_view_module_version": "1.5.0",
      "_view_name": "ProgressView",
      "bar_style": "success",
      "description": "",
      "description_tooltip": null,
      "layout": "IPY_MODEL_7a91254d9cf84176960b40a1b8f2072a",
      "max": 1,
      "min": 0,
      "orientation": "horizontal",
      "style": "IPY_MODEL_5a2e350ddcf24362a1e190d118ce50bd",
      "value": 1
     }
    },
    "1bbcd0af4e4e4f42ac821f6f9f15e31f": {
     "model_module": "@jupyter-widgets/controls",
     "model_module_version": "1.5.0",
     "model_name": "DescriptionStyleModel",
     "state": {
      "_model_module": "@jupyter-widgets/controls",
      "_model_module_version": "1.5.0",
      "_model_name": "DescriptionStyleModel",
      "_view_count": null,
      "_view_module": "@jupyter-widgets/base",
      "_view_module_version": "1.2.0",
      "_view_name": "StyleView",
      "description_width": ""
     }
    },
    "1d5d8ea4edec45aba93ce0feb32d5c8d": {
     "model_module": "@jupyter-widgets/controls",
     "model_module_version": "1.5.0",
     "model_name": "FloatProgressModel",
     "state": {
      "_dom_classes": [],
      "_model_module": "@jupyter-widgets/controls",
      "_model_module_version": "1.5.0",
      "_model_name": "FloatProgressModel",
      "_view_count": null,
      "_view_module": "@jupyter-widgets/controls",
      "_view_module_version": "1.5.0",
      "_view_name": "ProgressView",
      "bar_style": "",
      "description": "",
      "description_tooltip": null,
      "layout": "IPY_MODEL_964f28b4d4b44b389d628d7d4b2ad438",
      "max": 23262,
      "min": 0,
      "orientation": "horizontal",
      "style": "IPY_MODEL_8551b190fa194cf79083e51427374487",
      "value": 23262
     }
    },
    "1ede2b80ae804f8fad89865727e0fd0a": {
     "model_module": "@jupyter-widgets/controls",
     "model_module_version": "1.5.0",
     "model_name": "HTMLModel",
     "state": {
      "_dom_classes": [],
      "_model_module": "@jupyter-widgets/controls",
      "_model_module_version": "1.5.0",
      "_model_name": "HTMLModel",
      "_view_count": null,
      "_view_module": "@jupyter-widgets/controls",
      "_view_module_version": "1.5.0",
      "_view_name": "HTMLView",
      "description": "",
      "description_tooltip": null,
      "layout": "IPY_MODEL_f6d87dee22444cf39465edbcd3424898",
      "placeholder": "​",
      "style": "IPY_MODEL_44abfc4af52c41b5895e68db9fbe3e7d",
      "value": "Generating splits...: 100%"
     }
    },
    "2113005c7f4b44c5aae0f3f2610a49e5": {
     "model_module": "@jupyter-widgets/controls",
     "model_module_version": "1.5.0",
     "model_name": "DescriptionStyleModel",
     "state": {
      "_model_module": "@jupyter-widgets/controls",
      "_model_module_version": "1.5.0",
      "_model_name": "DescriptionStyleModel",
      "_view_count": null,
      "_view_module": "@jupyter-widgets/base",
      "_view_module_version": "1.2.0",
      "_view_name": "StyleView",
      "description_width": ""
     }
    },
    "213f84051b7a4eaf8adf0e89a5cca089": {
     "model_module": "@jupyter-widgets/base",
     "model_module_version": "1.2.0",
     "model_name": "LayoutModel",
     "state": {
      "_model_module": "@jupyter-widgets/base",
      "_model_module_version": "1.2.0",
      "_model_name": "LayoutModel",
      "_view_count": null,
      "_view_module": "@jupyter-widgets/base",
      "_view_module_version": "1.2.0",
      "_view_name": "LayoutView",
      "align_content": null,
      "align_items": null,
      "align_self": null,
      "border": null,
      "bottom": null,
      "display": null,
      "flex": null,
      "flex_flow": null,
      "grid_area": null,
      "grid_auto_columns": null,
      "grid_auto_flow": null,
      "grid_auto_rows": null,
      "grid_column": null,
      "grid_gap": null,
      "grid_row": null,
      "grid_template_areas": null,
      "grid_template_columns": null,
      "grid_template_rows": null,
      "height": null,
      "justify_content": null,
      "justify_items": null,
      "left": null,
      "margin": null,
      "max_height": null,
      "max_width": null,
      "min_height": null,
      "min_width": null,
      "object_fit": null,
      "object_position": null,
      "order": null,
      "overflow": null,
      "overflow_x": null,
      "overflow_y": null,
      "padding": null,
      "right": null,
      "top": null,
      "visibility": null,
      "width": null
     }
    },
    "2d228881b6cf4308814374fc4b3f114a": {
     "model_module": "@jupyter-widgets/controls",
     "model_module_version": "1.5.0",
     "model_name": "FloatProgressModel",
     "state": {
      "_dom_classes": [],
      "_model_module": "@jupyter-widgets/controls",
      "_model_module_version": "1.5.0",
      "_model_name": "FloatProgressModel",
      "_view_count": null,
      "_view_module": "@jupyter-widgets/controls",
      "_view_module_version": "1.5.0",
      "_view_name": "ProgressView",
      "bar_style": "",
      "description": "",
      "description_tooltip": null,
      "layout": "IPY_MODEL_213f84051b7a4eaf8adf0e89a5cca089",
      "max": 1,
      "min": 0,
      "orientation": "horizontal",
      "style": "IPY_MODEL_a1900751e984403296992f05334ffcc9",
      "value": 1
     }
    },
    "33e9af5eed8f43588b7aa2ab43fb4070": {
     "model_module": "@jupyter-widgets/controls",
     "model_module_version": "1.5.0",
     "model_name": "HTMLModel",
     "state": {
      "_dom_classes": [],
      "_model_module": "@jupyter-widgets/controls",
      "_model_module_version": "1.5.0",
      "_model_name": "HTMLModel",
      "_view_count": null,
      "_view_module": "@jupyter-widgets/controls",
      "_view_module_version": "1.5.0",
      "_view_name": "HTMLView",
      "description": "",
      "description_tooltip": null,
      "layout": "IPY_MODEL_9cd5d0f85cea438a9fb181e7adf193f7",
      "placeholder": "​",
      "style": "IPY_MODEL_1bbcd0af4e4e4f42ac821f6f9f15e31f",
      "value": "Generating train examples...: 100%"
     }
    },
    "341660c39a5a44998355df3c0a3605c1": {
     "model_module": "@jupyter-widgets/controls",
     "model_module_version": "1.5.0",
     "model_name": "HTMLModel",
     "state": {
      "_dom_classes": [],
      "_model_module": "@jupyter-widgets/controls",
      "_model_module_version": "1.5.0",
      "_model_name": "HTMLModel",
      "_view_count": null,
      "_view_module": "@jupyter-widgets/controls",
      "_view_module_version": "1.5.0",
      "_view_name": "HTMLView",
      "description": "",
      "description_tooltip": null,
      "layout": "IPY_MODEL_c6104c2e3fdc42f18018197cc87002d2",
      "placeholder": "​",
      "style": "IPY_MODEL_6b83f7c297b4454c999e9a8714ba1484",
      "value": " 1/1 [00:13&lt;00:00, 13.07s/ url]"
     }
    },
    "3b64149b1b5f4bc8b4e9f7dcbff39822": {
     "model_module": "@jupyter-widgets/controls",
     "model_module_version": "1.5.0",
     "model_name": "HTMLModel",
     "state": {
      "_dom_classes": [],
      "_model_module": "@jupyter-widgets/controls",
      "_model_module_version": "1.5.0",
      "_model_name": "HTMLModel",
      "_view_count": null,
      "_view_module": "@jupyter-widgets/controls",
      "_view_module_version": "1.5.0",
      "_view_name": "HTMLView",
      "description": "",
      "description_tooltip": null,
      "layout": "IPY_MODEL_b49c685c8c96455d9a64ecfb6923eb6e",
      "placeholder": "​",
      "style": "IPY_MODEL_e4a57fc9c2574ff1a367bc9809e5a3d4",
      "value": " 786/786 [00:12&lt;00:00, 98.79 MiB/s]"
     }
    },
    "44abfc4af52c41b5895e68db9fbe3e7d": {
     "model_module": "@jupyter-widgets/controls",
     "model_module_version": "1.5.0",
     "model_name": "DescriptionStyleModel",
     "state": {
      "_model_module": "@jupyter-widgets/controls",
      "_model_module_version": "1.5.0",
      "_model_name": "DescriptionStyleModel",
      "_view_count": null,
      "_view_module": "@jupyter-widgets/base",
      "_view_module_version": "1.2.0",
      "_view_name": "StyleView",
      "description_width": ""
     }
    },
    "45eaf0fac0c6491abef9640bb78b9927": {
     "model_module": "@jupyter-widgets/base",
     "model_module_version": "1.2.0",
     "model_name": "LayoutModel",
     "state": {
      "_model_module": "@jupyter-widgets/base",
      "_model_module_version": "1.2.0",
      "_model_name": "LayoutModel",
      "_view_count": null,
      "_view_module": "@jupyter-widgets/base",
      "_view_module_version": "1.2.0",
      "_view_name": "LayoutView",
      "align_content": null,
      "align_items": null,
      "align_self": null,
      "border": null,
      "bottom": null,
      "display": null,
      "flex": null,
      "flex_flow": null,
      "grid_area": null,
      "grid_auto_columns": null,
      "grid_auto_flow": null,
      "grid_auto_rows": null,
      "grid_column": null,
      "grid_gap": null,
      "grid_row": null,
      "grid_template_areas": null,
      "grid_template_columns": null,
      "grid_template_rows": null,
      "height": null,
      "justify_content": null,
      "justify_items": null,
      "left": null,
      "margin": null,
      "max_height": null,
      "max_width": null,
      "min_height": null,
      "min_width": null,
      "object_fit": null,
      "object_position": null,
      "order": null,
      "overflow": null,
      "overflow_x": null,
      "overflow_y": null,
      "padding": null,
      "right": null,
      "top": null,
      "visibility": null,
      "width": null
     }
    },
    "5175262426a940b4859603953bb12b81": {
     "model_module": "@jupyter-widgets/base",
     "model_module_version": "1.2.0",
     "model_name": "LayoutModel",
     "state": {
      "_model_module": "@jupyter-widgets/base",
      "_model_module_version": "1.2.0",
      "_model_name": "LayoutModel",
      "_view_count": null,
      "_view_module": "@jupyter-widgets/base",
      "_view_module_version": "1.2.0",
      "_view_name": "LayoutView",
      "align_content": null,
      "align_items": null,
      "align_self": null,
      "border": null,
      "bottom": null,
      "display": null,
      "flex": null,
      "flex_flow": null,
      "grid_area": null,
      "grid_auto_columns": null,
      "grid_auto_flow": null,
      "grid_auto_rows": null,
      "grid_column": null,
      "grid_gap": null,
      "grid_row": null,
      "grid_template_areas": null,
      "grid_template_columns": null,
      "grid_template_rows": null,
      "height": null,
      "justify_content": null,
      "justify_items": null,
      "left": null,
      "margin": null,
      "max_height": null,
      "max_width": null,
      "min_height": null,
      "min_width": null,
      "object_fit": null,
      "object_position": null,
      "order": null,
      "overflow": null,
      "overflow_x": null,
      "overflow_y": null,
      "padding": null,
      "right": null,
      "top": null,
      "visibility": null,
      "width": null
     }
    },
    "579024c8b874411d88de385548e2f54d": {
     "model_module": "@jupyter-widgets/controls",
     "model_module_version": "1.5.0",
     "model_name": "FloatProgressModel",
     "state": {
      "_dom_classes": [],
      "_model_module": "@jupyter-widgets/controls",
      "_model_module_version": "1.5.0",
      "_model_name": "FloatProgressModel",
      "_view_count": null,
      "_view_module": "@jupyter-widgets/controls",
      "_view_module_version": "1.5.0",
      "_view_name": "ProgressView",
      "bar_style": "",
      "description": "",
      "description_tooltip": null,
      "layout": "IPY_MODEL_98e44930107b4399a1decd96313c8a83",
      "max": 23262,
      "min": 0,
      "orientation": "horizontal",
      "style": "IPY_MODEL_d706f387e2a3433f8ffc130158d26fc4",
      "value": 23262
     }
    },
    "5a2e350ddcf24362a1e190d118ce50bd": {
     "model_module": "@jupyter-widgets/controls",
     "model_module_version": "1.5.0",
     "model_name": "ProgressStyleModel",
     "state": {
      "_model_module": "@jupyter-widgets/controls",
      "_model_module_version": "1.5.0",
      "_model_name": "ProgressStyleModel",
      "_view_count": null,
      "_view_module": "@jupyter-widgets/base",
      "_view_module_version": "1.2.0",
      "_view_name": "StyleView",
      "bar_color": null,
      "description_width": ""
     }
    },
    "5c4d5a1a755449f282104dbbfd319874": {
     "model_module": "@jupyter-widgets/base",
     "model_module_version": "1.2.0",
     "model_name": "LayoutModel",
     "state": {
      "_model_module": "@jupyter-widgets/base",
      "_model_module_version": "1.2.0",
      "_model_name": "LayoutModel",
      "_view_count": null,
      "_view_module": "@jupyter-widgets/base",
      "_view_module_version": "1.2.0",
      "_view_name": "LayoutView",
      "align_content": null,
      "align_items": null,
      "align_self": null,
      "border": null,
      "bottom": null,
      "display": null,
      "flex": null,
      "flex_flow": null,
      "grid_area": null,
      "grid_auto_columns": null,
      "grid_auto_flow": null,
      "grid_auto_rows": null,
      "grid_column": null,
      "grid_gap": null,
      "grid_row": null,
      "grid_template_areas": null,
      "grid_template_columns": null,
      "grid_template_rows": null,
      "height": null,
      "justify_content": null,
      "justify_items": null,
      "left": null,
      "margin": null,
      "max_height": null,
      "max_width": null,
      "min_height": null,
      "min_width": null,
      "object_fit": null,
      "object_position": null,
      "order": null,
      "overflow": null,
      "overflow_x": null,
      "overflow_y": null,
      "padding": null,
      "right": null,
      "top": null,
      "visibility": null,
      "width": "20px"
     }
    },
    "65411223087d4b699142ad6c0acd7d8c": {
     "model_module": "@jupyter-widgets/controls",
     "model_module_version": "1.5.0",
     "model_name": "HBoxModel",
     "state": {
      "_dom_classes": [],
      "_model_module": "@jupyter-widgets/controls",
      "_model_module_version": "1.5.0",
      "_model_name": "HBoxModel",
      "_view_count": null,
      "_view_module": "@jupyter-widgets/controls",
      "_view_module_version": "1.5.0",
      "_view_name": "HBoxView",
      "box_style": "",
      "children": [
       "IPY_MODEL_13b20b7e84964035bfab9c374c4d3279",
       "IPY_MODEL_155e219fb7fd41fa9edfa28e12706263",
       "IPY_MODEL_341660c39a5a44998355df3c0a3605c1"
      ],
      "layout": "IPY_MODEL_15c2160f6acf49a993f014a80711694f"
     }
    },
    "6b83f7c297b4454c999e9a8714ba1484": {
     "model_module": "@jupyter-widgets/controls",
     "model_module_version": "1.5.0",
     "model_name": "DescriptionStyleModel",
     "state": {
      "_model_module": "@jupyter-widgets/controls",
      "_model_module_version": "1.5.0",
      "_model_name": "DescriptionStyleModel",
      "_view_count": null,
      "_view_module": "@jupyter-widgets/base",
      "_view_module_version": "1.2.0",
      "_view_name": "StyleView",
      "description_width": ""
     }
    },
    "7253b8a5696f424ab1dc6fb128dcbe4c": {
     "model_module": "@jupyter-widgets/base",
     "model_module_version": "1.2.0",
     "model_name": "LayoutModel",
     "state": {
      "_model_module": "@jupyter-widgets/base",
      "_model_module_version": "1.2.0",
      "_model_name": "LayoutModel",
      "_view_count": null,
      "_view_module": "@jupyter-widgets/base",
      "_view_module_version": "1.2.0",
      "_view_name": "LayoutView",
      "align_content": null,
      "align_items": null,
      "align_self": null,
      "border": null,
      "bottom": null,
      "display": null,
      "flex": null,
      "flex_flow": null,
      "grid_area": null,
      "grid_auto_columns": null,
      "grid_auto_flow": null,
      "grid_auto_rows": null,
      "grid_column": null,
      "grid_gap": null,
      "grid_row": null,
      "grid_template_areas": null,
      "grid_template_columns": null,
      "grid_template_rows": null,
      "height": null,
      "justify_content": null,
      "justify_items": null,
      "left": null,
      "margin": null,
      "max_height": null,
      "max_width": null,
      "min_height": null,
      "min_width": null,
      "object_fit": null,
      "object_position": null,
      "order": null,
      "overflow": null,
      "overflow_x": null,
      "overflow_y": null,
      "padding": null,
      "right": null,
      "top": null,
      "visibility": null,
      "width": null
     }
    },
    "73b1250ed48b4ec2b1cc33093233836b": {
     "model_module": "@jupyter-widgets/controls",
     "model_module_version": "1.5.0",
     "model_name": "DescriptionStyleModel",
     "state": {
      "_model_module": "@jupyter-widgets/controls",
      "_model_module_version": "1.5.0",
      "_model_name": "DescriptionStyleModel",
      "_view_count": null,
      "_view_module": "@jupyter-widgets/base",
      "_view_module_version": "1.2.0",
      "_view_name": "StyleView",
      "description_width": ""
     }
    },
    "7a91254d9cf84176960b40a1b8f2072a": {
     "model_module": "@jupyter-widgets/base",
     "model_module_version": "1.2.0",
     "model_name": "LayoutModel",
     "state": {
      "_model_module": "@jupyter-widgets/base",
      "_model_module_version": "1.2.0",
      "_model_name": "LayoutModel",
      "_view_count": null,
      "_view_module": "@jupyter-widgets/base",
      "_view_module_version": "1.2.0",
      "_view_name": "LayoutView",
      "align_content": null,
      "align_items": null,
      "align_self": null,
      "border": null,
      "bottom": null,
      "display": null,
      "flex": null,
      "flex_flow": null,
      "grid_area": null,
      "grid_auto_columns": null,
      "grid_auto_flow": null,
      "grid_auto_rows": null,
      "grid_column": null,
      "grid_gap": null,
      "grid_row": null,
      "grid_template_areas": null,
      "grid_template_columns": null,
      "grid_template_rows": null,
      "height": null,
      "justify_content": null,
      "justify_items": null,
      "left": null,
      "margin": null,
      "max_height": null,
      "max_width": null,
      "min_height": null,
      "min_width": null,
      "object_fit": null,
      "object_position": null,
      "order": null,
      "overflow": null,
      "overflow_x": null,
      "overflow_y": null,
      "padding": null,
      "right": null,
      "top": null,
      "visibility": null,
      "width": "20px"
     }
    },
    "7e15a1c3f002478f95f6923b659ce2c1": {
     "model_module": "@jupyter-widgets/controls",
     "model_module_version": "1.5.0",
     "model_name": "DescriptionStyleModel",
     "state": {
      "_model_module": "@jupyter-widgets/controls",
      "_model_module_version": "1.5.0",
      "_model_name": "DescriptionStyleModel",
      "_view_count": null,
      "_view_module": "@jupyter-widgets/base",
      "_view_module_version": "1.2.0",
      "_view_name": "StyleView",
      "description_width": ""
     }
    },
    "7f19fed078d64c5fac666eb9741e5e93": {
     "model_module": "@jupyter-widgets/base",
     "model_module_version": "1.2.0",
     "model_name": "LayoutModel",
     "state": {
      "_model_module": "@jupyter-widgets/base",
      "_model_module_version": "1.2.0",
      "_model_name": "LayoutModel",
      "_view_count": null,
      "_view_module": "@jupyter-widgets/base",
      "_view_module_version": "1.2.0",
      "_view_name": "LayoutView",
      "align_content": null,
      "align_items": null,
      "align_self": null,
      "border": null,
      "bottom": null,
      "display": null,
      "flex": null,
      "flex_flow": null,
      "grid_area": null,
      "grid_auto_columns": null,
      "grid_auto_flow": null,
      "grid_auto_rows": null,
      "grid_column": null,
      "grid_gap": null,
      "grid_row": null,
      "grid_template_areas": null,
      "grid_template_columns": null,
      "grid_template_rows": null,
      "height": null,
      "justify_content": null,
      "justify_items": null,
      "left": null,
      "margin": null,
      "max_height": null,
      "max_width": null,
      "min_height": null,
      "min_width": null,
      "object_fit": null,
      "object_position": null,
      "order": null,
      "overflow": null,
      "overflow_x": null,
      "overflow_y": null,
      "padding": null,
      "right": null,
      "top": null,
      "visibility": null,
      "width": null
     }
    },
    "8526496021094f4a97d41483abee48c4": {
     "model_module": "@jupyter-widgets/controls",
     "model_module_version": "1.5.0",
     "model_name": "HTMLModel",
     "state": {
      "_dom_classes": [],
      "_model_module": "@jupyter-widgets/controls",
      "_model_module_version": "1.5.0",
      "_model_name": "HTMLModel",
      "_view_count": null,
      "_view_module": "@jupyter-widgets/controls",
      "_view_module_version": "1.5.0",
      "_view_name": "HTMLView",
      "description": "",
      "description_tooltip": null,
      "layout": "IPY_MODEL_7f19fed078d64c5fac666eb9741e5e93",
      "placeholder": "​",
      "style": "IPY_MODEL_954f1a2b79584e6085e67438c2e00b26",
      "value": "Dl Size...: 100%"
     }
    },
    "8551b190fa194cf79083e51427374487": {
     "model_module": "@jupyter-widgets/controls",
     "model_module_version": "1.5.0",
     "model_name": "ProgressStyleModel",
     "state": {
      "_model_module": "@jupyter-widgets/controls",
      "_model_module_version": "1.5.0",
      "_model_name": "ProgressStyleModel",
      "_view_count": null,
      "_view_module": "@jupyter-widgets/base",
      "_view_module_version": "1.2.0",
      "_view_name": "StyleView",
      "bar_color": null,
      "description_width": ""
     }
    },
    "954f1a2b79584e6085e67438c2e00b26": {
     "model_module": "@jupyter-widgets/controls",
     "model_module_version": "1.5.0",
     "model_name": "DescriptionStyleModel",
     "state": {
      "_model_module": "@jupyter-widgets/controls",
      "_model_module_version": "1.5.0",
      "_model_name": "DescriptionStyleModel",
      "_view_count": null,
      "_view_module": "@jupyter-widgets/base",
      "_view_module_version": "1.2.0",
      "_view_name": "StyleView",
      "description_width": ""
     }
    },
    "964f28b4d4b44b389d628d7d4b2ad438": {
     "model_module": "@jupyter-widgets/base",
     "model_module_version": "1.2.0",
     "model_name": "LayoutModel",
     "state": {
      "_model_module": "@jupyter-widgets/base",
      "_model_module_version": "1.2.0",
      "_model_name": "LayoutModel",
      "_view_count": null,
      "_view_module": "@jupyter-widgets/base",
      "_view_module_version": "1.2.0",
      "_view_name": "LayoutView",
      "align_content": null,
      "align_items": null,
      "align_self": null,
      "border": null,
      "bottom": null,
      "display": null,
      "flex": null,
      "flex_flow": null,
      "grid_area": null,
      "grid_auto_columns": null,
      "grid_auto_flow": null,
      "grid_auto_rows": null,
      "grid_column": null,
      "grid_gap": null,
      "grid_row": null,
      "grid_template_areas": null,
      "grid_template_columns": null,
      "grid_template_rows": null,
      "height": null,
      "justify_content": null,
      "justify_items": null,
      "left": null,
      "margin": null,
      "max_height": null,
      "max_width": null,
      "min_height": null,
      "min_width": null,
      "object_fit": null,
      "object_position": null,
      "order": null,
      "overflow": null,
      "overflow_x": null,
      "overflow_y": null,
      "padding": null,
      "right": null,
      "top": null,
      "visibility": null,
      "width": null
     }
    },
    "9686bbbbef5a481e8474688f3b314993": {
     "model_module": "@jupyter-widgets/base",
     "model_module_version": "1.2.0",
     "model_name": "LayoutModel",
     "state": {
      "_model_module": "@jupyter-widgets/base",
      "_model_module_version": "1.2.0",
      "_model_name": "LayoutModel",
      "_view_count": null,
      "_view_module": "@jupyter-widgets/base",
      "_view_module_version": "1.2.0",
      "_view_name": "LayoutView",
      "align_content": null,
      "align_items": null,
      "align_self": null,
      "border": null,
      "bottom": null,
      "display": null,
      "flex": null,
      "flex_flow": null,
      "grid_area": null,
      "grid_auto_columns": null,
      "grid_auto_flow": null,
      "grid_auto_rows": null,
      "grid_column": null,
      "grid_gap": null,
      "grid_row": null,
      "grid_template_areas": null,
      "grid_template_columns": null,
      "grid_template_rows": null,
      "height": null,
      "justify_content": null,
      "justify_items": null,
      "left": null,
      "margin": null,
      "max_height": null,
      "max_width": null,
      "min_height": null,
      "min_width": null,
      "object_fit": null,
      "object_position": null,
      "order": null,
      "overflow": null,
      "overflow_x": null,
      "overflow_y": null,
      "padding": null,
      "right": null,
      "top": null,
      "visibility": "hidden",
      "width": null
     }
    },
    "98e44930107b4399a1decd96313c8a83": {
     "model_module": "@jupyter-widgets/base",
     "model_module_version": "1.2.0",
     "model_name": "LayoutModel",
     "state": {
      "_model_module": "@jupyter-widgets/base",
      "_model_module_version": "1.2.0",
      "_model_name": "LayoutModel",
      "_view_count": null,
      "_view_module": "@jupyter-widgets/base",
      "_view_module_version": "1.2.0",
      "_view_name": "LayoutView",
      "align_content": null,
      "align_items": null,
      "align_self": null,
      "border": null,
      "bottom": null,
      "display": null,
      "flex": null,
      "flex_flow": null,
      "grid_area": null,
      "grid_auto_columns": null,
      "grid_auto_flow": null,
      "grid_auto_rows": null,
      "grid_column": null,
      "grid_gap": null,
      "grid_row": null,
      "grid_template_areas": null,
      "grid_template_columns": null,
      "grid_template_rows": null,
      "height": null,
      "justify_content": null,
      "justify_items": null,
      "left": null,
      "margin": null,
      "max_height": null,
      "max_width": null,
      "min_height": null,
      "min_width": null,
      "object_fit": null,
      "object_position": null,
      "order": null,
      "overflow": null,
      "overflow_x": null,
      "overflow_y": null,
      "padding": null,
      "right": null,
      "top": null,
      "visibility": null,
      "width": null
     }
    },
    "9a9855690a4c4a45aa280c823ee538e0": {
     "model_module": "@jupyter-widgets/controls",
     "model_module_version": "1.5.0",
     "model_name": "HBoxModel",
     "state": {
      "_dom_classes": [],
      "_model_module": "@jupyter-widgets/controls",
      "_model_module_version": "1.5.0",
      "_model_name": "HBoxModel",
      "_view_count": null,
      "_view_module": "@jupyter-widgets/controls",
      "_view_module_version": "1.5.0",
      "_view_name": "HBoxView",
      "box_style": "",
      "children": [
       "IPY_MODEL_11091a206e98470bb1c1e2923372a0db",
       "IPY_MODEL_579024c8b874411d88de385548e2f54d",
       "IPY_MODEL_afc9822e5a9e41828560340d625a01f0"
      ],
      "layout": "IPY_MODEL_9686bbbbef5a481e8474688f3b314993"
     }
    },
    "9cd5d0f85cea438a9fb181e7adf193f7": {
     "model_module": "@jupyter-widgets/base",
     "model_module_version": "1.2.0",
     "model_name": "LayoutModel",
     "state": {
      "_model_module": "@jupyter-widgets/base",
      "_model_module_version": "1.2.0",
      "_model_name": "LayoutModel",
      "_view_count": null,
      "_view_module": "@jupyter-widgets/base",
      "_view_module_version": "1.2.0",
      "_view_name": "LayoutView",
      "align_content": null,
      "align_items": null,
      "align_self": null,
      "border": null,
      "bottom": null,
      "display": null,
      "flex": null,
      "flex_flow": null,
      "grid_area": null,
      "grid_auto_columns": null,
      "grid_auto_flow": null,
      "grid_auto_rows": null,
      "grid_column": null,
      "grid_gap": null,
      "grid_row": null,
      "grid_template_areas": null,
      "grid_template_columns": null,
      "grid_template_rows": null,
      "height": null,
      "justify_content": null,
      "justify_items": null,
      "left": null,
      "margin": null,
      "max_height": null,
      "max_width": null,
      "min_height": null,
      "min_width": null,
      "object_fit": null,
      "object_position": null,
      "order": null,
      "overflow": null,
      "overflow_x": null,
      "overflow_y": null,
      "padding": null,
      "right": null,
      "top": null,
      "visibility": null,
      "width": null
     }
    },
    "9e5adb9954ad4531bb4c24b16a786160": {
     "model_module": "@jupyter-widgets/controls",
     "model_module_version": "1.5.0",
     "model_name": "HBoxModel",
     "state": {
      "_dom_classes": [],
      "_model_module": "@jupyter-widgets/controls",
      "_model_module_version": "1.5.0",
      "_model_name": "HBoxModel",
      "_view_count": null,
      "_view_module": "@jupyter-widgets/controls",
      "_view_module_version": "1.5.0",
      "_view_name": "HBoxView",
      "box_style": "",
      "children": [
       "IPY_MODEL_33e9af5eed8f43588b7aa2ab43fb4070",
       "IPY_MODEL_1d5d8ea4edec45aba93ce0feb32d5c8d",
       "IPY_MODEL_db31bc4091804840b6540ab0be4a9ab4"
      ],
      "layout": "IPY_MODEL_0c381ced4c5146a18a71a0d7d3563cad"
     }
    },
    "a1900751e984403296992f05334ffcc9": {
     "model_module": "@jupyter-widgets/controls",
     "model_module_version": "1.5.0",
     "model_name": "ProgressStyleModel",
     "state": {
      "_model_module": "@jupyter-widgets/controls",
      "_model_module_version": "1.5.0",
      "_model_name": "ProgressStyleModel",
      "_view_count": null,
      "_view_module": "@jupyter-widgets/base",
      "_view_module_version": "1.2.0",
      "_view_name": "StyleView",
      "bar_color": null,
      "description_width": ""
     }
    },
    "a67820075bb849aa8246622ac48397af": {
     "model_module": "@jupyter-widgets/controls",
     "model_module_version": "1.5.0",
     "model_name": "DescriptionStyleModel",
     "state": {
      "_model_module": "@jupyter-widgets/controls",
      "_model_module_version": "1.5.0",
      "_model_name": "DescriptionStyleModel",
      "_view_count": null,
      "_view_module": "@jupyter-widgets/base",
      "_view_module_version": "1.2.0",
      "_view_name": "StyleView",
      "description_width": ""
     }
    },
    "a6a0cb270f5640d8b0e013b88ac0d704": {
     "model_module": "@jupyter-widgets/controls",
     "model_module_version": "1.5.0",
     "model_name": "HBoxModel",
     "state": {
      "_dom_classes": [],
      "_model_module": "@jupyter-widgets/controls",
      "_model_module_version": "1.5.0",
      "_model_name": "HBoxModel",
      "_view_count": null,
      "_view_module": "@jupyter-widgets/controls",
      "_view_module_version": "1.5.0",
      "_view_name": "HBoxView",
      "box_style": "",
      "children": [
       "IPY_MODEL_8526496021094f4a97d41483abee48c4",
       "IPY_MODEL_1b86c9b1b44444c799b50ff4b2ac1d91",
       "IPY_MODEL_3b64149b1b5f4bc8b4e9f7dcbff39822"
      ],
      "layout": "IPY_MODEL_dd8452319c3b4a2d986a2b51ad2699bc"
     }
    },
    "aa0824e54d6e487b9dccd964c51f3667": {
     "model_module": "@jupyter-widgets/controls",
     "model_module_version": "1.5.0",
     "model_name": "ProgressStyleModel",
     "state": {
      "_model_module": "@jupyter-widgets/controls",
      "_model_module_version": "1.5.0",
      "_model_name": "ProgressStyleModel",
      "_view_count": null,
      "_view_module": "@jupyter-widgets/base",
      "_view_module_version": "1.2.0",
      "_view_name": "StyleView",
      "bar_color": null,
      "description_width": ""
     }
    },
    "afc9822e5a9e41828560340d625a01f0": {
     "model_module": "@jupyter-widgets/controls",
     "model_module_version": "1.5.0",
     "model_name": "HTMLModel",
     "state": {
      "_dom_classes": [],
      "_model_module": "@jupyter-widgets/controls",
      "_model_module_version": "1.5.0",
      "_model_name": "HTMLModel",
      "_view_count": null,
      "_view_module": "@jupyter-widgets/controls",
      "_view_module_version": "1.5.0",
      "_view_name": "HTMLView",
      "description": "",
      "description_tooltip": null,
      "layout": "IPY_MODEL_ea77f98f767b4930820abaa2fbf18c9f",
      "placeholder": "​",
      "style": "IPY_MODEL_7e15a1c3f002478f95f6923b659ce2c1",
      "value": " 22739/23262 [00:02&lt;00:00, 8133.69 examples/s]"
     }
    },
    "b49c685c8c96455d9a64ecfb6923eb6e": {
     "model_module": "@jupyter-widgets/base",
     "model_module_version": "1.2.0",
     "model_name": "LayoutModel",
     "state": {
      "_model_module": "@jupyter-widgets/base",
      "_model_module_version": "1.2.0",
      "_model_name": "LayoutModel",
      "_view_count": null,
      "_view_module": "@jupyter-widgets/base",
      "_view_module_version": "1.2.0",
      "_view_name": "LayoutView",
      "align_content": null,
      "align_items": null,
      "align_self": null,
      "border": null,
      "bottom": null,
      "display": null,
      "flex": null,
      "flex_flow": null,
      "grid_area": null,
      "grid_auto_columns": null,
      "grid_auto_flow": null,
      "grid_auto_rows": null,
      "grid_column": null,
      "grid_gap": null,
      "grid_row": null,
      "grid_template_areas": null,
      "grid_template_columns": null,
      "grid_template_rows": null,
      "height": null,
      "justify_content": null,
      "justify_items": null,
      "left": null,
      "margin": null,
      "max_height": null,
      "max_width": null,
      "min_height": null,
      "min_width": null,
      "object_fit": null,
      "object_position": null,
      "order": null,
      "overflow": null,
      "overflow_x": null,
      "overflow_y": null,
      "padding": null,
      "right": null,
      "top": null,
      "visibility": null,
      "width": null
     }
    },
    "c0b31318fb6c481da39fa24591754a39": {
     "model_module": "@jupyter-widgets/base",
     "model_module_version": "1.2.0",
     "model_name": "LayoutModel",
     "state": {
      "_model_module": "@jupyter-widgets/base",
      "_model_module_version": "1.2.0",
      "_model_name": "LayoutModel",
      "_view_count": null,
      "_view_module": "@jupyter-widgets/base",
      "_view_module_version": "1.2.0",
      "_view_name": "LayoutView",
      "align_content": null,
      "align_items": null,
      "align_self": null,
      "border": null,
      "bottom": null,
      "display": null,
      "flex": null,
      "flex_flow": null,
      "grid_area": null,
      "grid_auto_columns": null,
      "grid_auto_flow": null,
      "grid_auto_rows": null,
      "grid_column": null,
      "grid_gap": null,
      "grid_row": null,
      "grid_template_areas": null,
      "grid_template_columns": null,
      "grid_template_rows": null,
      "height": null,
      "justify_content": null,
      "justify_items": null,
      "left": null,
      "margin": null,
      "max_height": null,
      "max_width": null,
      "min_height": null,
      "min_width": null,
      "object_fit": null,
      "object_position": null,
      "order": null,
      "overflow": null,
      "overflow_x": null,
      "overflow_y": null,
      "padding": null,
      "right": null,
      "top": null,
      "visibility": null,
      "width": null
     }
    },
    "c6104c2e3fdc42f18018197cc87002d2": {
     "model_module": "@jupyter-widgets/base",
     "model_module_version": "1.2.0",
     "model_name": "LayoutModel",
     "state": {
      "_model_module": "@jupyter-widgets/base",
      "_model_module_version": "1.2.0",
      "_model_name": "LayoutModel",
      "_view_count": null,
      "_view_module": "@jupyter-widgets/base",
      "_view_module_version": "1.2.0",
      "_view_name": "LayoutView",
      "align_content": null,
      "align_items": null,
      "align_self": null,
      "border": null,
      "bottom": null,
      "display": null,
      "flex": null,
      "flex_flow": null,
      "grid_area": null,
      "grid_auto_columns": null,
      "grid_auto_flow": null,
      "grid_auto_rows": null,
      "grid_column": null,
      "grid_gap": null,
      "grid_row": null,
      "grid_template_areas": null,
      "grid_template_columns": null,
      "grid_template_rows": null,
      "height": null,
      "justify_content": null,
      "justify_items": null,
      "left": null,
      "margin": null,
      "max_height": null,
      "max_width": null,
      "min_height": null,
      "min_width": null,
      "object_fit": null,
      "object_position": null,
      "order": null,
      "overflow": null,
      "overflow_x": null,
      "overflow_y": null,
      "padding": null,
      "right": null,
      "top": null,
      "visibility": null,
      "width": null
     }
    },
    "d27082c383f44ec3a2740a22398e42d3": {
     "model_module": "@jupyter-widgets/controls",
     "model_module_version": "1.5.0",
     "model_name": "HBoxModel",
     "state": {
      "_dom_classes": [],
      "_model_module": "@jupyter-widgets/controls",
      "_model_module_version": "1.5.0",
      "_model_name": "HBoxModel",
      "_view_count": null,
      "_view_module": "@jupyter-widgets/controls",
      "_view_module_version": "1.5.0",
      "_view_name": "HBoxView",
      "box_style": "",
      "children": [
       "IPY_MODEL_1ede2b80ae804f8fad89865727e0fd0a",
       "IPY_MODEL_2d228881b6cf4308814374fc4b3f114a",
       "IPY_MODEL_fac258cba59f465e85fd60d7fc9ff342"
      ],
      "layout": "IPY_MODEL_e985d20aada641a68ceb60adecf9d539"
     }
    },
    "d706f387e2a3433f8ffc130158d26fc4": {
     "model_module": "@jupyter-widgets/controls",
     "model_module_version": "1.5.0",
     "model_name": "ProgressStyleModel",
     "state": {
      "_model_module": "@jupyter-widgets/controls",
      "_model_module_version": "1.5.0",
      "_model_name": "ProgressStyleModel",
      "_view_count": null,
      "_view_module": "@jupyter-widgets/base",
      "_view_module_version": "1.2.0",
      "_view_name": "StyleView",
      "bar_color": null,
      "description_width": ""
     }
    },
    "db31bc4091804840b6540ab0be4a9ab4": {
     "model_module": "@jupyter-widgets/controls",
     "model_module_version": "1.5.0",
     "model_name": "HTMLModel",
     "state": {
      "_dom_classes": [],
      "_model_module": "@jupyter-widgets/controls",
      "_model_module_version": "1.5.0",
      "_model_name": "HTMLModel",
      "_view_count": null,
      "_view_module": "@jupyter-widgets/controls",
      "_view_module_version": "1.5.0",
      "_view_name": "HTMLView",
      "description": "",
      "description_tooltip": null,
      "layout": "IPY_MODEL_45eaf0fac0c6491abef9640bb78b9927",
      "placeholder": "​",
      "style": "IPY_MODEL_73b1250ed48b4ec2b1cc33093233836b",
      "value": " 23199/23262 [00:10&lt;00:00, 2183.86 examples/s]"
     }
    },
    "dd8452319c3b4a2d986a2b51ad2699bc": {
     "model_module": "@jupyter-widgets/base",
     "model_module_version": "1.2.0",
     "model_name": "LayoutModel",
     "state": {
      "_model_module": "@jupyter-widgets/base",
      "_model_module_version": "1.2.0",
      "_model_name": "LayoutModel",
      "_view_count": null,
      "_view_module": "@jupyter-widgets/base",
      "_view_module_version": "1.2.0",
      "_view_name": "LayoutView",
      "align_content": null,
      "align_items": null,
      "align_self": null,
      "border": null,
      "bottom": null,
      "display": null,
      "flex": null,
      "flex_flow": null,
      "grid_area": null,
      "grid_auto_columns": null,
      "grid_auto_flow": null,
      "grid_auto_rows": null,
      "grid_column": null,
      "grid_gap": null,
      "grid_row": null,
      "grid_template_areas": null,
      "grid_template_columns": null,
      "grid_template_rows": null,
      "height": null,
      "justify_content": null,
      "justify_items": null,
      "left": null,
      "margin": null,
      "max_height": null,
      "max_width": null,
      "min_height": null,
      "min_width": null,
      "object_fit": null,
      "object_position": null,
      "order": null,
      "overflow": null,
      "overflow_x": null,
      "overflow_y": null,
      "padding": null,
      "right": null,
      "top": null,
      "visibility": null,
      "width": null
     }
    },
    "e4a57fc9c2574ff1a367bc9809e5a3d4": {
     "model_module": "@jupyter-widgets/controls",
     "model_module_version": "1.5.0",
     "model_name": "DescriptionStyleModel",
     "state": {
      "_model_module": "@jupyter-widgets/controls",
      "_model_module_version": "1.5.0",
      "_model_name": "DescriptionStyleModel",
      "_view_count": null,
      "_view_module": "@jupyter-widgets/base",
      "_view_module_version": "1.2.0",
      "_view_name": "StyleView",
      "description_width": ""
     }
    },
    "e985d20aada641a68ceb60adecf9d539": {
     "model_module": "@jupyter-widgets/base",
     "model_module_version": "1.2.0",
     "model_name": "LayoutModel",
     "state": {
      "_model_module": "@jupyter-widgets/base",
      "_model_module_version": "1.2.0",
      "_model_name": "LayoutModel",
      "_view_count": null,
      "_view_module": "@jupyter-widgets/base",
      "_view_module_version": "1.2.0",
      "_view_name": "LayoutView",
      "align_content": null,
      "align_items": null,
      "align_self": null,
      "border": null,
      "bottom": null,
      "display": null,
      "flex": null,
      "flex_flow": null,
      "grid_area": null,
      "grid_auto_columns": null,
      "grid_auto_flow": null,
      "grid_auto_rows": null,
      "grid_column": null,
      "grid_gap": null,
      "grid_row": null,
      "grid_template_areas": null,
      "grid_template_columns": null,
      "grid_template_rows": null,
      "height": null,
      "justify_content": null,
      "justify_items": null,
      "left": null,
      "margin": null,
      "max_height": null,
      "max_width": null,
      "min_height": null,
      "min_width": null,
      "object_fit": null,
      "object_position": null,
      "order": null,
      "overflow": null,
      "overflow_x": null,
      "overflow_y": null,
      "padding": null,
      "right": null,
      "top": null,
      "visibility": "hidden",
      "width": null
     }
    },
    "ea77f98f767b4930820abaa2fbf18c9f": {
     "model_module": "@jupyter-widgets/base",
     "model_module_version": "1.2.0",
     "model_name": "LayoutModel",
     "state": {
      "_model_module": "@jupyter-widgets/base",
      "_model_module_version": "1.2.0",
      "_model_name": "LayoutModel",
      "_view_count": null,
      "_view_module": "@jupyter-widgets/base",
      "_view_module_version": "1.2.0",
      "_view_name": "LayoutView",
      "align_content": null,
      "align_items": null,
      "align_self": null,
      "border": null,
      "bottom": null,
      "display": null,
      "flex": null,
      "flex_flow": null,
      "grid_area": null,
      "grid_auto_columns": null,
      "grid_auto_flow": null,
      "grid_auto_rows": null,
      "grid_column": null,
      "grid_gap": null,
      "grid_row": null,
      "grid_template_areas": null,
      "grid_template_columns": null,
      "grid_template_rows": null,
      "height": null,
      "justify_content": null,
      "justify_items": null,
      "left": null,
      "margin": null,
      "max_height": null,
      "max_width": null,
      "min_height": null,
      "min_width": null,
      "object_fit": null,
      "object_position": null,
      "order": null,
      "overflow": null,
      "overflow_x": null,
      "overflow_y": null,
      "padding": null,
      "right": null,
      "top": null,
      "visibility": null,
      "width": null
     }
    },
    "f6d87dee22444cf39465edbcd3424898": {
     "model_module": "@jupyter-widgets/base",
     "model_module_version": "1.2.0",
     "model_name": "LayoutModel",
     "state": {
      "_model_module": "@jupyter-widgets/base",
      "_model_module_version": "1.2.0",
      "_model_name": "LayoutModel",
      "_view_count": null,
      "_view_module": "@jupyter-widgets/base",
      "_view_module_version": "1.2.0",
      "_view_name": "LayoutView",
      "align_content": null,
      "align_items": null,
      "align_self": null,
      "border": null,
      "bottom": null,
      "display": null,
      "flex": null,
      "flex_flow": null,
      "grid_area": null,
      "grid_auto_columns": null,
      "grid_auto_flow": null,
      "grid_auto_rows": null,
      "grid_column": null,
      "grid_gap": null,
      "grid_row": null,
      "grid_template_areas": null,
      "grid_template_columns": null,
      "grid_template_rows": null,
      "height": null,
      "justify_content": null,
      "justify_items": null,
      "left": null,
      "margin": null,
      "max_height": null,
      "max_width": null,
      "min_height": null,
      "min_width": null,
      "object_fit": null,
      "object_position": null,
      "order": null,
      "overflow": null,
      "overflow_x": null,
      "overflow_y": null,
      "padding": null,
      "right": null,
      "top": null,
      "visibility": null,
      "width": null
     }
    },
    "fac258cba59f465e85fd60d7fc9ff342": {
     "model_module": "@jupyter-widgets/controls",
     "model_module_version": "1.5.0",
     "model_name": "HTMLModel",
     "state": {
      "_dom_classes": [],
      "_model_module": "@jupyter-widgets/controls",
      "_model_module_version": "1.5.0",
      "_model_name": "HTMLModel",
      "_view_count": null,
      "_view_module": "@jupyter-widgets/controls",
      "_view_module_version": "1.5.0",
      "_view_name": "HTMLView",
      "description": "",
      "description_tooltip": null,
      "layout": "IPY_MODEL_7253b8a5696f424ab1dc6fb128dcbe4c",
      "placeholder": "​",
      "style": "IPY_MODEL_039a354c0e0d45e099fa45a9c3af62af",
      "value": " 1/1 [00:13&lt;00:00, 13.02s/ splits]"
     }
    }
   }
  }
 },
 "nbformat": 4,
 "nbformat_minor": 1
}
